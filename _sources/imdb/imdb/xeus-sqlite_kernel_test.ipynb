{
 "cells": [
  {
   "cell_type": "markdown",
   "id": "aeb4b448",
   "metadata": {},
   "source": [
    "# kernel test"
   ]
  },
  {
   "cell_type": "code",
   "execution_count": 1,
   "id": "a638e0b9",
   "metadata": {},
   "outputs": [],
   "source": [
    "%LOAD imdb.db"
   ]
  },
  {
   "cell_type": "code",
   "execution_count": 2,
   "id": "9a9c386c",
   "metadata": {},
   "outputs": [
    {
     "data": {
      "text/html": [
       "<table>\n",
       "<tr>\n",
       "<th>name</th>\n",
       "</tr>\n",
       "<tr>\n",
       "<td>Krug, Manfred</td>\n",
       "</tr>\n",
       "<tr>\n",
       "<td>Krug, Manfred</td>\n",
       "</tr>\n",
       "<tr>\n",
       "<td>Krug, Manfred</td>\n",
       "</tr>\n",
       "</table>"
      ],
      "text/plain": [
       "+---------------+\n",
       "| name          |\n",
       "+---------------+\n",
       "| Krug, Manfred |\n",
       "+---------------+\n",
       "| Krug, Manfred |\n",
       "+---------------+\n",
       "| Krug, Manfred |\n",
       "+---------------+"
      ]
     },
     "execution_count": 2,
     "metadata": {},
     "output_type": "execute_result"
    }
   ],
   "source": [
    "SELECT name FROM actor WHERE name LIKE '%Krug%'"
   ]
  }
 ],
 "metadata": {
  "kernelspec": {
   "display_name": "xsqlite",
   "language": "sqlite",
   "name": "xsqlite"
  },
  "language_info": {
   "codemirror_mode": "sql",
   "file_extension": "",
   "mimetype": "",
   "name": "sql",
   "version": "3.33.0"
  }
 },
 "nbformat": 4,
 "nbformat_minor": 5
}
