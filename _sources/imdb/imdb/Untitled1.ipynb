{
 "cells": [
  {
   "cell_type": "markdown",
   "metadata": {},
   "source": [
    "# sql test"
   ]
  },
  {
   "cell_type": "code",
   "execution_count": 1,
   "metadata": {},
   "outputs": [
    {
     "name": "stdout",
     "output_type": "stream",
     "text": [
      "Defaulting to user installation because normal site-packages is not writeable\n",
      "Requirement already satisfied: sqlalchemy==1.3.9 in /home/jennywu/.local/lib/python3.8/site-packages (1.3.9)\n",
      "\u001b[33mWARNING: You are using pip version 22.0.4; however, version 22.1.2 is available.\n",
      "You should consider upgrading via the '/usr/bin/python3 -m pip install --upgrade pip' command.\u001b[0m\u001b[33m\n",
      "\u001b[0mDefaulting to user installation because normal site-packages is not writeable\n",
      "Requirement already satisfied: ipython-sql in /usr/local/lib/python3.8/dist-packages (0.4.1)\n",
      "Requirement already satisfied: six in /usr/lib/python3/dist-packages (from ipython-sql) (1.14.0)\n",
      "Requirement already satisfied: sqlalchemy>=0.6.7 in /home/jennywu/.local/lib/python3.8/site-packages (from ipython-sql) (1.3.9)\n",
      "Requirement already satisfied: ipython-genutils>=0.1.0 in /usr/lib/python3/dist-packages (from ipython-sql) (0.2.0)\n",
      "Requirement already satisfied: sqlparse in /usr/local/lib/python3.8/dist-packages (from ipython-sql) (0.4.2)\n",
      "Requirement already satisfied: prettytable<1 in /usr/local/lib/python3.8/dist-packages (from ipython-sql) (0.7.2)\n",
      "Requirement already satisfied: ipython>=1.0 in /home/jennywu/.local/lib/python3.8/site-packages (from ipython-sql) (8.2.0)\n",
      "Requirement already satisfied: stack-data in /home/jennywu/.local/lib/python3.8/site-packages (from ipython>=1.0->ipython-sql) (0.2.0)\n",
      "Requirement already satisfied: prompt-toolkit!=3.0.0,!=3.0.1,<3.1.0,>=2.0.0 in /usr/lib/python3/dist-packages (from ipython>=1.0->ipython-sql) (2.0.10)\n",
      "Requirement already satisfied: pygments>=2.4.0 in /home/jennywu/.local/lib/python3.8/site-packages (from ipython>=1.0->ipython-sql) (2.11.2)\n",
      "Requirement already satisfied: pickleshare in /usr/lib/python3/dist-packages (from ipython>=1.0->ipython-sql) (0.7.5)\n",
      "Requirement already satisfied: jedi>=0.16 in /home/jennywu/.local/lib/python3.8/site-packages (from ipython>=1.0->ipython-sql) (0.18.1)\n",
      "Requirement already satisfied: traitlets>=5 in /home/jennywu/.local/lib/python3.8/site-packages (from ipython>=1.0->ipython-sql) (5.1.1)\n",
      "Requirement already satisfied: pexpect>4.3 in /usr/lib/python3/dist-packages (from ipython>=1.0->ipython-sql) (4.6.0)\n",
      "Requirement already satisfied: setuptools>=18.5 in /usr/lib/python3/dist-packages (from ipython>=1.0->ipython-sql) (45.2.0)\n",
      "Requirement already satisfied: backcall in /usr/lib/python3/dist-packages (from ipython>=1.0->ipython-sql) (0.1.0)\n",
      "Requirement already satisfied: decorator in /usr/lib/python3/dist-packages (from ipython>=1.0->ipython-sql) (4.4.2)\n",
      "Requirement already satisfied: matplotlib-inline in /home/jennywu/.local/lib/python3.8/site-packages (from ipython>=1.0->ipython-sql) (0.1.3)\n",
      "Requirement already satisfied: parso<0.9.0,>=0.8.0 in /home/jennywu/.local/lib/python3.8/site-packages (from jedi>=0.16->ipython>=1.0->ipython-sql) (0.8.3)\n",
      "Requirement already satisfied: executing in /home/jennywu/.local/lib/python3.8/site-packages (from stack-data->ipython>=1.0->ipython-sql) (0.8.3)\n",
      "Requirement already satisfied: asttokens in /home/jennywu/.local/lib/python3.8/site-packages (from stack-data->ipython>=1.0->ipython-sql) (2.0.5)\n",
      "Requirement already satisfied: pure-eval in /home/jennywu/.local/lib/python3.8/site-packages (from stack-data->ipython>=1.0->ipython-sql) (0.2.2)\n",
      "\u001b[33mWARNING: You are using pip version 22.0.4; however, version 22.1.2 is available.\n",
      "You should consider upgrading via the '/usr/bin/python3 -m pip install --upgrade pip' command.\u001b[0m\u001b[33m\n",
      "\u001b[0m"
     ]
    }
   ],
   "source": [
    "!pip install sqlalchemy==1.3.9\n",
    "!pip install ipython-sql"
   ]
  },
  {
   "cell_type": "code",
   "execution_count": 2,
   "metadata": {},
   "outputs": [
    {
     "data": {
      "text/plain": [
       "'/usr/bin/python3'"
      ]
     },
     "execution_count": 2,
     "metadata": {},
     "output_type": "execute_result"
    }
   ],
   "source": [
    "import sys\n",
    "sys.executable"
   ]
  },
  {
   "cell_type": "code",
   "execution_count": 3,
   "metadata": {},
   "outputs": [],
   "source": [
    "%load_ext sql\n",
    "%sql sqlite:///imdb.db"
   ]
  },
  {
   "cell_type": "code",
   "execution_count": 5,
   "metadata": {},
   "outputs": [
    {
     "name": "stdout",
     "output_type": "stream",
     "text": [
      " * sqlite:///imdb.db\n",
      "Done.\n"
     ]
    },
    {
     "data": {
      "text/html": [
       "<table>\n",
       "    <tr>\n",
       "        <th>name</th>\n",
       "    </tr>\n",
       "    <tr>\n",
       "        <td>Krug, Manfred</td>\n",
       "    </tr>\n",
       "    <tr>\n",
       "        <td>Krug, Manfred</td>\n",
       "    </tr>\n",
       "    <tr>\n",
       "        <td>Krug, Manfred</td>\n",
       "    </tr>\n",
       "</table>"
      ],
      "text/plain": [
       "[('Krug, Manfred',), ('Krug, Manfred',), ('Krug, Manfred',)]"
      ]
     },
     "execution_count": 5,
     "metadata": {},
     "output_type": "execute_result"
    }
   ],
   "source": [
    "%sql SELECT name FROM actor WHERE name LIKE '%Krug%'"
   ]
  }
 ],
 "metadata": {
  "kernelspec": {
   "display_name": "Python 3 (ipykernel)",
   "language": "python",
   "name": "python3"
  },
  "language_info": {
   "codemirror_mode": {
    "name": "ipython",
    "version": 3
   },
   "file_extension": ".py",
   "mimetype": "text/x-python",
   "name": "python",
   "nbconvert_exporter": "python",
   "pygments_lexer": "ipython3",
   "version": "3.8.10"
  }
 },
 "nbformat": 4,
 "nbformat_minor": 2
}
