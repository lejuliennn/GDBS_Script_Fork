{
 "cells": [
  {
   "cell_type": "markdown",
   "id": "aeb4b448",
   "metadata": {},
   "source": [
    "# kernel test"
   ]
  },
  {
   "cell_type": "code",
   "execution_count": 1,
   "id": "a638e0b9",
   "metadata": {},
   "outputs": [
    {
     "name": "stderr",
     "output_type": "stream",
     "text": [
      "UsageError: Line magic function `%LOAD` not found.\n"
     ]
    }
   ],
   "source": [
    "%LOAD imdb.db"
   ]
  },
  {
   "cell_type": "code",
   "execution_count": 2,
   "id": "9a9c386c",
   "metadata": {},
   "outputs": [
    {
     "ename": "SyntaxError",
     "evalue": "invalid syntax (1049482512.py, line 1)",
     "output_type": "error",
     "traceback": [
      "\u001b[0;36m  Input \u001b[0;32mIn [2]\u001b[0;36m\u001b[0m\n\u001b[0;31m    SELECT name FROM actor WHERE name LIKE '%Krug%'\u001b[0m\n\u001b[0m           ^\u001b[0m\n\u001b[0;31mSyntaxError\u001b[0m\u001b[0;31m:\u001b[0m invalid syntax\n"
     ]
    }
   ],
   "source": [
    "SELECT name FROM actor WHERE name LIKE '%Krug%'"
   ]
  },
  {
   "cell_type": "code",
   "execution_count": null,
   "id": "b9cc4082",
   "metadata": {},
   "outputs": [],
   "source": []
  },
  {
   "cell_type": "code",
   "execution_count": null,
   "id": "d1df5a1a",
   "metadata": {},
   "outputs": [],
   "source": []
  }
 ],
 "metadata": {
  "kernelspec": {
   "display_name": "Python 3 (ipykernel)",
   "language": "python",
   "name": "python3"
  },
  "language_info": {
   "codemirror_mode": {
    "name": "ipython",
    "version": 3
   },
   "file_extension": ".py",
   "mimetype": "text/x-python",
   "name": "python",
   "nbconvert_exporter": "python",
   "pygments_lexer": "ipython3",
   "version": "3.10.5"
  }
 },
 "nbformat": 4,
 "nbformat_minor": 5
}
