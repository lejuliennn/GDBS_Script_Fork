{
 "cells": [
  {
   "cell_type": "markdown",
   "metadata": {},
   "source": [
    "# Relationaler Entwurf\n",
    "\n",
    "Die meisten kommerziellen Datenbanken unterstützen das relationale Datenmodell. \n",
    "In diesem Kapitel lernen wir das relationale Modell kennen und diskutieren Methoden zur Überführung von Datenspezifikationen aus dem ER-Modell ins relationale Modell."
   ]
  },
  {
   "cell_type": "markdown",
   "metadata": {},
   "source": [
    "## Das Relationale Modell\n",
    "\n",
    "Im Folgenden werden wir ähnlich zum ER-Modell die grundlegenden Bausteine des relationalen Modells kennen lernen. Zentrale Grundbegriffe des relationalen Modells sind Relationen und Tupel. "
   ]
  },
  {
   "cell_type": "markdown",
   "metadata": {},
   "source": [
    "In der Mathematik ist eine Relation $R$ eine Teilmenge des Kreuzproduktes von $n$ Mengen: $R\\subset A_1 \\times A_2 \\times \\cdots \\times A_n$. Ein Element der Relation ist ein n-Tupel: $\\forall t \\in R. t=(a_1,a_2,\\cdots, a_n) \\wedge a_i \\in A_i$\n",
    "\n",
    "\n",
    "Für Datenbanken gelten die aus der Mathematik bekannten Beziehungen mit folgenden zusätzlichen semantischen Erweiterungen. \n",
    "Die Mengen $A_i$ sind im Datenkontext Domänen bzw. Wertebereiche. Diese Wertebereiche können im allgemeinen Standarddatentypen wie Integer, String, Boolean, usw. sein oder konkrete Wertebereiche, die durch Attribute definiert werden, wie zum Beispiel ID, Name, Alter, Geschlecht. Prinzipiell entspricht eine solche Menge der Spalte einer Tabelle.\n",
    "\n",
    "Analog bilden die Einträge der Tupel $(a_1,\\cdots, a_n)$ die Datenwerten einer Tabelle, z.B. (4, Abedjan, 36, m). Ein Tupel entspricht einer Zeile einer Tabelle."
   ]
  },
  {
   "cell_type": "markdown",
   "metadata": {},
   "source": [
    "### Die Relation"
   ]
  },
  {
   "cell_type": "markdown",
   "metadata": {},
   "source": [
    "Konzeptuell ist eine Datenbank eine Menge von Tabellen. Jede Tabelle stellt die Daten einer Relation dar. Eine Tabelle besteht aus Spalten, die in Relation zu einander stehen. Damit beinhaltet jede Zeile Datenwerte aus den jeweiligen Domänen, die in Relation zu einander stehen. Wir werden oft Tabellen und Relationen alternierend nutzen, obwohl diese konzeptionell unterschiedliche Konzepte sind. Eine Relation ist ein mathematisches Konzept, welches aus Mengen und Tupeln zusammensetzt ist, während eine Tabelle ein zweidimensionales Feld bestehend aus Spalten und Zeilen ist. Es ist jedoch leicht einzusehen, dass jede Relation als Tabelle darstellbar ist. \n",
    "\n",
    "Rückführend auf den ersten Satz dieses Unterabschnitt stellen wir also fest, dass die Relation das einzige Konstrukt des relationalen Modells ist und folgende Vorteile sich dadurch ergeben:\n",
    "\n",
    "- Leicht beschreibbar. Entspricht oft unserer Vorstellung der Daten.\n",
    "- Einfach in einer DB abzubilden (zwei-dimensionales Array, Liste von Arrays, usw. )\n",
    "- Relationen bilden sowohl Entitytypen als auch Relationshiptypen ab.\n",
    "- Ist das abstrakte Modell hinter SQL"
   ]
  },
  {
   "cell_type": "markdown",
   "metadata": {},
   "source": [
    "### Elemente des Relationalen Modells"
   ]
  },
  {
   "cell_type": "markdown",
   "metadata": {},
   "source": [
    "Zentrale Elemente des relationalen Modells sind Attribute, Tupel und Schema. \n",
    "\n",
    "- Datenbankschema: Im Groben beschreibt jedes relationale Modell ein Datenbankschema, welche aus einem oder mehreren Relationenschemata besteht. \n",
    "- Relationenschema: Jede Relation wird durch ihr Schema identifiziert. Das Relationenschema besteht aus dem Namen der Relation und der Liste der Attribute und ihrer Domänen. In einer Tabelle entspricht die Kopfzeile dem Relationenschema. Alle weiteren (Daten-)Einträge in der Tabelle bilden die „Relation“\n",
    "- Die Relation besteht aus keinem oder mehr Tupeln. Im relationalen Modell bilden Tupel einer Relation immer eine Menge. Das heißt, dass kein Tupel in seiner gesamten Ausprägung doppelt auftauchen kann. Diese Annahme gilt in echten Datenbanksystemen nur dann, wenn ein Schlüssel vorhanden ist. \n",
    "- Attribute entsprechen den Bezeichnern der zu einander in Relation stehenden Domänenmengen. In Tabellen entsprechen Attribute den Spaltenbezeichnern (Überschriften). In einem Relationenschema kann ein Attribut nicht doppelt vorkommen. Das Relationenschema ist somit eine Menge.\n",
    "- Attributwert: Jeder Dateneintrag in einem Tupel entspricht dem Attributwert der jeweiligen Spalte. Attributwerte sind atomar und stammen aus einer elementaren Domäne. \n",
    "- Ein Tupel entspricht aus einer vollständigen Kombination von Attributwerten.\n",
    "\n",
    "In der Abbildung unten sind die jeweiligen Elemente nochmal visuell dargestellt. Wir haben Primärschlüssel und Fremdschlüssel auch bereits dargestellt. Diese sind wie bekannt aus dem ER-Modell, Attribute die referenzielle Integrität gewährleisten. Hierauf werden wir später in diesem Kapitel genauer eingehen. "
   ]
  },
  {
   "cell_type": "markdown",
   "metadata": {},
   "source": [
    "![title](elemente_rm.jpg)"
   ]
  },
  {
   "cell_type": "markdown",
   "metadata": {},
   "source": [
    "### Formal"
   ]
  },
  {
   "cell_type": "markdown",
   "metadata": {},
   "source": [
    "Formal betrachtet können wir die mathematische Definition von Relationen etwas spezieller auf Relationen in Datenbanken anwenden. Ausgangspunkt sind $n$ Domänen $D_1, D_2, \\dots, D_n$. Jede Domäne entspricht einer endlichen oder unendlichen Menge von gleichartigen Ausdrücken. Domänen können auch ganz allgemein als Datentypen wie String oder Integer aufgefasst werden. \n",
    "Eine Relation im Sinne des relationalen Modells ist die Teilmenge des Kreuzproduktes von $n$ Domänen: $R \\subseteq D_1 \\times D_2 \\times \\dots \\times D_n $. Daraus Ergibt sich, dass es für jede Domäne $D_n$ eine Menge $A_n \\subset D_n$ gibt die alle Werte, die in der Zieltabelle vorkommen abbilden. Zum Beispiel könnte $A_n$ die Menge aller Adressen eines Unternehmens sein. Im folgenden Beispiel wird das Nochmal verdeutlicht. Formal gibt es für jede Attributwertmenge $A_n$ auch ein Label $a_n$ welches die Menge bezeichnet. Hier: $a_n=$ \"Adressen\". Oft wird $A_n$ auch Synonym (unsauber) als Bezeichner verwendet.\n",
    "\n",
    "- Beispiel\n",
    "    - Relationenschema: $R(a_1,a_2,a_3,a_4)$ $\\equiv$ Film(Titel, Jahr, Länge, Typ)\n",
    "    - Domänen: String, Integer, Integer, String\n",
    "    - Tupel: (Star Wars, 1977, 124, farbig)"
   ]
  },
  {
   "cell_type": "markdown",
   "metadata": {},
   "source": [
    "### Edgar F. Codd"
   ]
  },
  {
   "cell_type": "markdown",
   "metadata": {},
   "source": [
    "Promotion an der University of Michigan Ann Arbor\n",
    "<br>\n",
    "Entwicklung des Relationalen Modells bei IBM (Almaden)\n",
    "<br>\n",
    "„A Relational Model of Data for Large Shared Data Banks\" (1970)\n",
    "<br>\n",
    "Artikelserie\n",
    "<br>\n",
    "Literaturhinweis:\n",
    "<br>\n",
    "The Database Relational Model: A Retrospective Review and Analysis:\n",
    "<br>\n",
    "A Historical Account and Assessment of E. F. Codd's Contribution to the Field of Database Technology\n",
    "<br>\n",
    "Chris J. Date\n",
    "<br>\n",
    "ISBN: 0-201-61294-1 (9.99 EUR)"
   ]
  },
  {
   "cell_type": "markdown",
   "metadata": {},
   "source": [
    "#### Beiträge von Codd"
   ]
  },
  {
   "cell_type": "markdown",
   "metadata": {},
   "source": [
    "■ Transformation des Datenmanagement zu einer Wissenschaft\n",
    "<br>\n",
    "□ Entsprechende Klarheit und Strenge\n",
    "<br>\n",
    "<br>\n",
    "■ Nicht nur das relationale Modell, sondern überhaupt das Konzept eines Datenmodells\n",
    "<br>\n",
    "□ Unterscheidung zwischen Modell und Implementierung\n",
    "<br><br>\n",
    "■ Relationale Algebra und relationales Kalkül\n",
    "<br><br>\n",
    "■ Informell: Anfragesprache Alpha\n",
    "<br>\n",
    "□ Angelehnt: SEQUEL von Chamberlin und Boyce\n",
    "<br>\n",
    "□ Vorgänger von SQL\n",
    "<br><br>\n",
    "■ Funktionale Abhängigkeiten\n",
    "<br><br>\n",
    "■ Normalformen\n",
    "<br>\n",
    "□ Erste bis dritte Normalform"
   ]
  },
  {
   "cell_type": "markdown",
   "metadata": {},
   "source": [
    "## Von ER-Diagrammen zu Relationenschemata"
   ]
  },
  {
   "cell_type": "markdown",
   "metadata": {},
   "source": [
    "EINLEITUNGSTEXT:\n",
    "<br>\n",
    "Logischer Entwurf:\n",
    "<br>\n",
    "■ Sprachmittel: Datenmodell des ausgewählten DBMS\n",
    "<br>\n",
    "□ z.B. DB2, Oracle, … => relationales Modell\n",
    "<br>\n",
    "□ Tamino => XML\n",
    "<br>\n",
    "<br>\n",
    "■ Vorgehensweise\n",
    "<br>\n",
    "□ (Automatische) Transformation des konzeptionellen Schemas\n",
    "<br>\n",
    "– z.B. ER in relationales Modell\n",
    "<br>\n",
    "<br>\n",
    "□ Verbesserung des relationalen Schemas anhand von Gütekriterien\n",
    "<br>\n",
    "– Normalisierung, Redundanzvermeidung, …\n",
    "<br>\n",
    "■ Ergebnis: logisches Schema, z.B. Sammlung von Relationenschemata"
   ]
  },
  {
   "cell_type": "markdown",
   "metadata": {},
   "source": [
    "Ziele der Abbildung ER -> relationales Modell\n",
    "<br>\n",
    "■ Darstellung aller Informationen des ER-Diagramms\n",
    "<br>\n",
    "<br>\n",
    "■ Exaktheit\n",
    "<br>\n",
    "□ Das Datenbankschema kann genauso viele Instanzen wie das ER-Diagramm darstellen.\n",
    "<br>\n",
    "□ Das Datenbankschema kann nicht mehr Instanzen als das ER-Diagramm darstellen.\n",
    "<br>\n",
    "– Integritätsbedingungen müssen weiterhin gelten\n",
    "<br>\n",
    "<br>\n",
    "■ Erhaltung und Einhaltung der Informationskapazität!"
   ]
  },
  {
   "cell_type": "markdown",
   "metadata": {},
   "source": [
    "### Kapazitätserhöhende Abbildung"
   ]
  },
  {
   "cell_type": "markdown",
   "metadata": {},
   "source": [
    "![title](erhoehend.jpg)"
   ]
  },
  {
   "cell_type": "markdown",
   "metadata": {},
   "source": [
    "### Kapazitätsvermindernde Abbildung"
   ]
  },
  {
   "cell_type": "markdown",
   "metadata": {},
   "source": [
    "![title](vermindernd.jpg)"
   ]
  },
  {
   "cell_type": "markdown",
   "metadata": {},
   "source": [
    "### Grundalgorithmus"
   ]
  },
  {
   "cell_type": "markdown",
   "metadata": {},
   "source": [
    "1. Wandle jeden Entitytypen in eine Relation mit den gleichen Attributen um.\n",
    "<br>\n",
    "<br>\n",
    "2. Wandle jeden Relationshiptypen in eine Relation um mit:\n",
    "<br>\n",
    "□ Zugehörige Attribute des Relationshiptypen\n",
    "<br>\n",
    "□ Schlüsselattribute der beteiligten Entitytypen\n",
    "<br>\n",
    "<br>\n",
    "3. Verfeinere den Entwurf\n",
    "<br>\n",
    "<br>\n",
    "1. Zusammenlegung von Relationen\n",
    "<br>\n",
    "<br>\n",
    "2. Normalisierung\n",
    "<br>\n",
    "■ Ausnahmen\n",
    "<br>\n",
    "□ Schwache Entitytypen\n",
    "<br>\n",
    "□ IST Relationships"
   ]
  },
  {
   "cell_type": "markdown",
   "metadata": {},
   "source": [
    "### Entity -> Relation"
   ]
  },
  {
   "cell_type": "markdown",
   "metadata": {},
   "source": [
    "■ Name des Entitytyps -> Name der Relation\n",
    "<br>\n",
    "■ Attribute des Entitytyps -> Attribute der Relation\n",
    "<br>\n",
    "■ Diese Relation bildet in keiner Weise Relationships ab."
   ]
  },
  {
   "cell_type": "markdown",
   "metadata": {},
   "source": [
    "![](entitytyp.jpg)"
   ]
  },
  {
   "cell_type": "markdown",
   "metadata": {},
   "source": [
    "■ Film(Titel, Jahr, Länge, Typ)\n",
    "<br>\n",
    "■ Schauspieler(Name, Adresse)\n",
    "<br>\n",
    "■ Studio(Name, Adresse)"
   ]
  },
  {
   "cell_type": "markdown",
   "metadata": {},
   "source": [
    "### Relationshiptyp -> Relation"
   ]
  },
  {
   "cell_type": "markdown",
   "metadata": {},
   "source": [
    "Attribute\n",
    "<br>\n",
    "□ Attribute des Relationshiptyps selbst\n",
    "<br>\n",
    "□ Für jeden beteiligten Entitytypen: Füge deren Schlüsselattribut(e) als Attribute hinzu\n",
    "<br>\n",
    "<br>\n",
    "■ Doppelte Attributnamen\n",
    "<br>\n",
    "□ Umbenennungen sind nötig!\n",
    "<br>\n",
    "<br>\n",
    "■ Falls ein Entitytyp in mehreren Rollen beteiligt ist\n",
    "<br>\n",
    "□ Entsprechend oft die Schlüsselattribute übernehmen\n",
    "<br>\n",
    "□ Geeignete Umbenennungen sind dann sogar nötig"
   ]
  },
  {
   "cell_type": "markdown",
   "metadata": {},
   "source": [
    "![](entitytyp.jpg)"
   ]
  },
  {
   "cell_type": "markdown",
   "metadata": {},
   "source": [
    "■ spielt_in(Titel, Jahr, SchauspielerInName, SchauspielerInAdresse, Rolle)\n",
    "<br>\n",
    "■ besitzt(Titel, Jahr, StudioName)\n",
    "<br>\n",
    "■ Umbenennungen hier nur zur Klarheit"
   ]
  },
  {
   "cell_type": "markdown",
   "metadata": {},
   "source": [
    "BILD"
   ]
  },
  {
   "cell_type": "markdown",
   "metadata": {},
   "source": [
    "ist_unter_Vertrag(Titel, Jahr, SchauspielerName, SchauspielerAdresse, StudioName)"
   ]
  },
  {
   "cell_type": "markdown",
   "metadata": {},
   "source": [
    "BILD"
   ]
  },
  {
   "cell_type": "markdown",
   "metadata": {},
   "source": [
    "ist_unter_Vertrag(Titel, Jahr, SchauspielerName, SchauspielerAdresse, Stammstudio, ProduzierendesStudio, Gehalt)"
   ]
  },
  {
   "cell_type": "markdown",
   "metadata": {},
   "source": [
    "### Zusammenlegen von Relationen"
   ]
  },
  {
   "cell_type": "markdown",
   "metadata": {},
   "source": [
    "■ Man kann folgende Relationen kombinieren:\n",
    "<br>\n",
    "□ Die Relation für einen Entitytypen E\n",
    "<br>\n",
    "□ mit der Relation eines 1:n Relationshiptypen R, falls E auf den n-Seite liegt.\n",
    "<br>\n",
    "<br>\n",
    "■ Neue Relation enthält also\n",
    "<br>\n",
    "□ Alle Attribute von E\n",
    "<br>\n",
    "□ Alle Attribute von R\n",
    "<br>\n",
    "– inkl. Schlüssel des anderen Entitytypen"
   ]
  },
  {
   "cell_type": "markdown",
   "metadata": {},
   "source": [
    "![title](relationshiptyp1.jpg)"
   ]
  },
  {
   "cell_type": "markdown",
   "metadata": {},
   "source": [
    "![title](relationshiptyp2.jpg)"
   ]
  },
  {
   "cell_type": "markdown",
   "metadata": {},
   "source": [
    "![title](zusammenlegen1.jpg)"
   ]
  },
  {
   "cell_type": "markdown",
   "metadata": {},
   "source": [
    "#### 1:n-Relationships"
   ]
  },
  {
   "cell_type": "markdown",
   "metadata": {},
   "source": [
    "![title](zusammenlegen1n.jpg)"
   ]
  },
  {
   "cell_type": "markdown",
   "metadata": {},
   "source": [
    "#### 1:1-Relationships"
   ]
  },
  {
   "cell_type": "markdown",
   "metadata": {},
   "source": [
    "![title](zusammenlegen11.jpg)"
   ]
  },
  {
   "cell_type": "markdown",
   "metadata": {},
   "source": [
    "#### Falschbeispiel: n-m-Relationships"
   ]
  },
  {
   "cell_type": "markdown",
   "metadata": {},
   "source": [
    "![title](zusammenlegennm.jpg)"
   ]
  },
  {
   "cell_type": "markdown",
   "metadata": {},
   "source": [
    "### Schwache Entitytypen"
   ]
  },
  {
   "cell_type": "markdown",
   "metadata": {},
   "source": [
    "■ Drei Besonderheiten\n",
    "<br>\n",
    "□ Die Relation eines schwachen Entitytypen S muss nicht nur die eigenen Attribute, sondern auch die\n",
    "Schlüsselattribute aller Entitytypen, die über unterstützende Relationshiptypen erreicht werden, enthalten.\n",
    "<br>\n",
    "□ Alle Relationen für Relationshiptypen, die S in Beziehung mit anderen Entitytypen setzen, müssen ebenfalls alle diese Attribute enthalten.\n",
    "<br>\n",
    "□ Ein unterstützender Relationshiptyp muss hingegen gar nicht durch eine Relation abgebildet werden.\n",
    "<br>\n",
    "– Begründung wie eben: 1:n"
   ]
  },
  {
   "cell_type": "markdown",
   "metadata": {},
   "source": [
    "![title](schwache_entitytypen.jpg)"
   ]
  },
  {
   "cell_type": "markdown",
   "metadata": {},
   "source": [
    "■ Studios(Name, Adresse)\n",
    "<br>\n",
    "■ Crews(Nummer, Name)"
   ]
  },
  {
   "cell_type": "markdown",
   "metadata": {},
   "source": [
    "![title](schwache_entitytypen2.jpg)"
   ]
  },
  {
   "cell_type": "markdown",
   "metadata": {},
   "source": [
    "■ Studio(Name, Adresse)\n",
    "<br>\n",
    "■ Schauspieler*in(Name, Adresse)\n",
    "<br>\n",
    "■ Film(Titel, Jahr, Typ, Länge)\n",
    "<br>\n",
    "■ Vertrag(Schauspieler*inName, StudioName, Titel, Jahr, Gehalt)"
   ]
  },
  {
   "cell_type": "markdown",
   "metadata": {},
   "source": [
    "![title](schwache_entitytypen3.jpg)"
   ]
  },
  {
   "cell_type": "markdown",
   "metadata": {},
   "source": [
    " Studio(Name, Adresse)\n",
    " <br>\n",
    "■ Schauspieler*in(Name, Adresse)\n",
    "<br>\n",
    "■ Film(Titel, Jahr, Typ, Länge)\n",
    "<br>\n",
    "■ ist_unter_Vertrag(Schauspieler*inName, StudioName, Titel, Jahr, Gehalt)\n",
    "<br>\n",
    "■ Was fällt auf?"
   ]
  },
  {
   "cell_type": "markdown",
   "metadata": {},
   "source": [
    "### Schema Teilmengen"
   ]
  },
  {
   "cell_type": "markdown",
   "metadata": {},
   "source": [
    "Beispiel\n",
    "<br>\n",
    "□ Personen(Name, SSN)\n",
    "<br>\n",
    "□ Steuerzahler*in(Name, SSN, Betrag)\n",
    "<br>\n",
    "<br>\n",
    "■ Schema von Personen ist Teilmenge des Schemas von Steuerzahler.\n",
    "<br>\n",
    "<br>\n",
    "■ Aber: Instanzen können sich unterscheiden\n",
    "<br>\n",
    "□ Steuerzahler*in Í Personen (jeder Steuerzahler ist eine Person)\n",
    "<br><br>\n",
    "■ Beispiel\n",
    "<br>\n",
    "□ Schauspieler*in(Name, Adresse)\n",
    "<br>\n",
    "□ Studios(Name, Adresse)\n",
    "<br><br>\n",
    "■ Schemata sind sogar identisch, aber Instanzen grundverschieden.\n",
    "<br>\n",
    "■ D.h.: Gleiche oder überlappende Schemas können/sollen nicht immer zusammengelegt werden."
   ]
  },
  {
   "cell_type": "markdown",
   "metadata": {},
   "source": [
    "## Konvertierung von Spezialisierung"
   ]
  },
  {
   "cell_type": "markdown",
   "metadata": {},
   "source": [
    "![title](spezialisierung.jpg)"
   ]
  },
  {
   "cell_type": "markdown",
   "metadata": {},
   "source": [
    "## ER-Still"
   ]
  },
  {
   "cell_type": "markdown",
   "metadata": {},
   "source": [
    "□ Für jeden Entitytypen E der Hierarchie erzeuge eine Relation mit den Schlüsselattributen des WurzelEntitytypen und den Attributen von E\n",
    "<br>\n",
    "<br>\n",
    "■ Film(Titel, Jahr, Länge,Typ)\n",
    "<br>\n",
    "<br>\n",
    "■ Krimi(Titel, Jahr, Waffen)\n",
    "<br>\n",
    "<br>\n",
    "■ Zeichentrickfilm(Titel, Jahr)\n",
    "<br>\n",
    "<br>\n",
    "■ Anmerkungen\n",
    "<br>\n",
    "□ Die IST-Relationship selbst erhält keine Relation.\n",
    "<br>\n",
    "□ Geerbte Schlüsselattribute werden für weitere Beziehungen benötigt.\n",
    "<br>\n",
    "□ Es gibt vier verschiedene Filmsorten.\n",
    "<br>\n",
    "□ Jeder Film hat ein Tupel in der Relation Filme.\n",
    "<br>\n",
    "□ Ein konkreter Film (z.B. Roger Rabbit) kann Tupel in allen drei Relationen haben.\n",
    "<br>\n",
    "<br>\n",
    "■ Stimmen(Titel, Jahr, Name)\n",
    "<br>\n",
    "■ Schema von Zeichentrickfilm ist Teilmenge des Schemas von Stimmen.\n",
    "<br>\n",
    "□ Kann man es weglassen?\n",
    "<br>\n",
    "□ Nein: Stumme Zeichentrickfilme!"
   ]
  },
  {
   "cell_type": "markdown",
   "metadata": {},
   "source": [
    "## Objekt-orientierter Stil"
   ]
  },
  {
   "cell_type": "markdown",
   "metadata": {},
   "source": [
    "□ Ein Entity gehört zu genau einer Klasse.\n",
    "<br>\n",
    "□ Für jeden möglichen Teilbaum der Hierarchie, der auch die Wurzel enthält, erzeuge eine Relation mit allen\n",
    "Attributen der beteiligten Entitytypen."
   ]
  },
  {
   "cell_type": "markdown",
   "metadata": {},
   "source": [
    "■ Erzeuge Relation für jeden Teilbaum.\n",
    "<br>\n",
    "■ Diese Relation repräsentiert die Entities, die genau diese Komponenten der Hierarchie besitzen.\n",
    "<br>\n",
    "□ Objekte gehören zu genau einer Klasse.\n",
    "<br><br>\n",
    "■ Vier Teilbäume\n",
    "<br>\n",
    "□ Nur Filme\n",
    "<br>\n",
    "□ Filme und Zeichentrickfilme\n",
    "<br>\n",
    "□ Filme und Krimis\n",
    "<br>\n",
    "□ Filme und Zeichentrickfilme und Krimis\n",
    "<br><br>\n",
    "■ Film(Titel, Jahr, Länge, Typ)\n",
    "<br>\n",
    "■ FilmZ(Titel, Jahr, Länge, Typ)\n",
    "<br>\n",
    "■ FilmK(Titel, Jahr, Länge, Typ, Waffen)\n",
    "<br>\n",
    "■ FilmZK(Titel, Jahr, Länge, Typ, Waffen)\n",
    "<br>\n",
    "<br>\n",
    "■ Kann man Film und FilmZ zusammenführen?\n",
    "<br>\n",
    "<br>\n",
    "■ Kann man FilmK und FilmZK zusammenführen?\n",
    "<br>\n",
    "<br>\n",
    "■ Wie viele Relationen für Stimmen benötigt man?\n",
    "<br>\n",
    "□ Nur eine: Stimmen(Titel, Jahr, Name)"
   ]
  },
  {
   "cell_type": "markdown",
   "metadata": {},
   "source": [
    "## Null-Werte Stil"
   ]
  },
  {
   "cell_type": "markdown",
   "metadata": {},
   "source": [
    "□ Erzeuge eine einzige Relation für die gesamte Hierarchie. Ein Entity wird durch ein Tupel repräsentiert mit NullWerten für Attribute, die der Entity nicht besitzt."
   ]
  },
  {
   "cell_type": "markdown",
   "metadata": {},
   "source": [
    "■ Eine einzige Relation mit allen Attributen.\n",
    "<br>\n",
    "<br>\n",
    "■ Film(Titel, Jahr, Länge, Typ, Waffen)\n",
    "<br>\n",
    "<br>\n",
    "■ Nicht-Krimis haben NULL-Wert als Attributwert für Waffen.\n",
    "<br>\n",
    "<br>\n",
    "■ Feinheiten\n",
    "<br>\n",
    "□ Stumme Zeichentrickfilme und Krimis ohne Waffen sehen aus wie „normale“ Filme."
   ]
  },
  {
   "cell_type": "markdown",
   "metadata": {},
   "source": [
    "## Vergleich der drei Stile"
   ]
  },
  {
   "cell_type": "markdown",
   "metadata": {},
   "source": [
    "■ Anzahl an Relationen (bei n Entitytypen)\n",
    "<br>\n",
    "□ Null-Stil: Nur eine Relation\n",
    "<br>\n",
    "□ ER-Stil: n Relationen\n",
    "<br>\n",
    "□ OO-Stil: O(2n-1) Relationen\n",
    "<br>\n",
    "<br>\n",
    "■ Speicherbedarf\n",
    "<br>\n",
    "□ OO-Stil: Minimaler Speicherbedarf\n",
    "<br>\n",
    "– Nur ein Tupel pro Entity\n",
    "<br>\n",
    "– Jeweils nur so viele Attribute wie nötig\n",
    "<br>\n",
    "□ Null-Stil: Auch nur ein Tupel pro Entity\n",
    "<br>\n",
    "– Aber: Lange Tupel mit möglicherweise vielen Null-Werten\n",
    "<br>\n",
    "□ ER-Stil: Viele Tupel pro Entity\n",
    "<br>\n",
    "– Aber nur Schlüsselattribute werden wiederholt"
   ]
  },
  {
   "cell_type": "markdown",
   "metadata": {},
   "source": [
    " Anfragebearbeitung\n",
    " <br>\n",
    "□ Joins über viele Relationen sind teuer.\n",
    " <br>\n",
    "□ Þ Null-Werte im Vorteil\n",
    " <br>\n",
    "□ Welche Filme aus 1999 sind länger als 150 Minuten?\n",
    " <br>\n",
    "– ER-Stil: Antwort direkt möglich\n",
    " <br>\n",
    "– OO-Stil: Anfrage an alle vier Relationen\n",
    " <br>\n",
    "□ Welche Waffen wurden in Zeichentrickfilmen, die länger als 150 Minuten sind, verwendet?\n",
    " <br>\n",
    "– ER-Stil: Alle drei Relationen sind relevant:\n",
    " <br>\n",
    "1. Filme für die Länge\n",
    " <br>\n",
    "2. Zeichentrickfilme für die Tatsache, dass es ein Zeichentrickfilm ist\n",
    " <br>\n",
    "3. Krimis für die Waffe\n",
    " <br>\n",
    "– OO-Stil: Anfrage nur an FilmeZK()"
   ]
  },
  {
   "cell_type": "markdown",
   "metadata": {},
   "source": [
    "NICHT enthalten: S.35"
   ]
  }
 ],
 "metadata": {
  "kernelspec": {
   "display_name": "Python 3 (ipykernel)",
   "language": "python",
   "name": "python3"
  },
  "language_info": {
   "codemirror_mode": {
    "name": "ipython",
    "version": 3
   },
   "file_extension": ".py",
   "mimetype": "text/x-python",
   "name": "python",
   "nbconvert_exporter": "python",
   "pygments_lexer": "ipython3",
   "version": "3.10.7"
  }
 },
 "nbformat": 4,
 "nbformat_minor": 4
}