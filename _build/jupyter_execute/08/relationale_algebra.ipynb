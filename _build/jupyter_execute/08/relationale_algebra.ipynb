{
 "cells": [
  {
   "cell_type": "markdown",
   "metadata": {},
   "source": [
    "# Relationale Algebra"
   ]
  },
  {
   "cell_type": "markdown",
   "metadata": {},
   "source": [
    "## Einführung"
   ]
  },
  {
   "cell_type": "markdown",
   "metadata": {},
   "source": [
    "■ Bisher\n",
    "<br>\n",
    "□ Relationenschemata mit Basisrelationen, die in der Datenbank gespeichert sind\n",
    "<br><br>\n",
    "■ Jetzt\n",
    "<br>\n",
    "□ „Abgeleitete“ Relationenschemata mit virtuellen Relationen, die aus den Basisrelationen berechnet werden\n",
    "<br>\n",
    "□ Definiert durch Anfragen\n",
    "<br>\n",
    "– Anfragesprache\n",
    "<br>\n",
    "□ Basisrelationen bleiben unverändert"
   ]
  },
  {
   "cell_type": "markdown",
   "metadata": {},
   "source": [
    "### Kriterien für Anfragesprachen"
   ]
  },
  {
   "cell_type": "markdown",
   "metadata": {},
   "source": [
    "■ Ad-Hoc-Formulierung\n",
    "<br>\n",
    "□ Benutzer soll eine Anfrage formulieren können, ohne ein vollständiges Programm schreiben zu müssen.\n",
    "<br><br>\n",
    "■ Eingeschränktheit\n",
    "<br>\n",
    "□ Anfragesprache soll keine komplette Programmiersprache sein\n",
    "<br>\n",
    "– Aber: SQL Standard besteht aus >1300 Seiten…\n",
    "<br><br>\n",
    "■ Deskriptivität / Deklarativität\n",
    "<br>\n",
    "□ Benutzer soll formulieren „Was will ich haben?“ und nicht „Wie komme ich an das, was ich haben will?“\n",
    "<br><br>\n",
    "■ Optimierbarkeit\n",
    "<br>\n",
    "□ Sprache besteht aus wenigen Operationen\n",
    "<br>\n",
    "□ Optimierungsregeln für die Operatorenmenge\n",
    "<br><br>\n",
    "■ Effizienz\n",
    "<br>\n",
    "□ Jede einzelne Operation ist effizient ausführbar.\n",
    "<br>\n",
    "□ Im relationalen Modell hat jede Operation eine Komplexität ≤ O(n²)\n",
    "<br>\n",
    "– n = Anzahl der Tupel einer Relation\n",
    "<br><br>\n",
    "■ Abgeschlossenheit\n",
    "<br>\n",
    "□ Anfragen auf Relationen\n",
    "<br>\n",
    "□ Anfrageergebnis ist wiederum eine Relation und kann als Eingabe für die nächste Anfrage verwendet werden.\n",
    "<br><br>\n",
    "■ Mengenorientiertheit\n",
    "<br>\n",
    "□ Operationen auf Mengen von Daten\n",
    "<br>\n",
    "□ Nicht navigierend nur auf einzelnen Elementen („tuple-at-a-time“)\n",
    "<br><br>\n",
    "■ Adäquatheit\n",
    "<br>\n",
    "□ Alle Konstrukte des zugrundeliegenden Datenmodells werden unterstützt\n",
    "<br>\n",
    "□ Relationen, Attribute, Schlüssel, …\n",
    "<br><br>\n",
    "■ Vollständigkeit\n",
    "<br>\n",
    "□ Sprache muss mindestens die Anfragen einer Standardsprache (z.B. relationale Algebra) ausdrücken können.\n",
    "<br>\n",
    "□ Relationale Algebra dient als Vorgabe.\n",
    "<br><br>\n",
    "■ Sicherheit\n",
    "<br>\n",
    "□ Keine Anfrage, die syntaktisch korrekt ist, darf in eine Endlosschleife geraten oder ein unendliches Ergebnis\n",
    "liefern."
   ]
  },
  {
   "cell_type": "markdown",
   "metadata": {},
   "source": [
    "### Anfragealgebra"
   ]
  },
  {
   "cell_type": "markdown",
   "metadata": {},
   "source": [
    "■ Mathematik\n",
    "<br>\n",
    "□ Algebra: Definiert durch Wertebereich und auf diesem definierte Operatoren\n",
    "<br>\n",
    "□ Operand: Variablen oder Werte aus denen neue Werte konstruiert werden können\n",
    "<br>\n",
    "□ Operator: Symbole, die Prozeduren repräsentieren, die aus gegebenen Werten neue Werte produzieren\n",
    "<br><br>\n",
    "■ Für Datenbankanfragen\n",
    "<br>\n",
    "□ Inhalte der Datenbank (Relationen) sind Operanden\n",
    "<br>\n",
    "□ Operatoren definieren Funktionen zum Berechnen von Anfrageergebnissen\n",
    "<br>\n",
    "– Grundlegenden Dinge, die wir mit Relationen tun wollen.\n",
    "<br>\n",
    "□ Relationale Algebra (Relational Algebra, RA)\n",
    "<br>\n",
    "– Anfragesprache für das relationale Modell"
   ]
  },
  {
   "cell_type": "markdown",
   "metadata": {},
   "source": [
    "### Mengen vs. Multimengen"
   ]
  },
  {
   "cell_type": "markdown",
   "metadata": {},
   "source": [
    " Relation: Menge von Tupeln\n",
    "<br>\n",
    "■ Datenbanktabelle: Multimenge von Tupeln\n",
    "<br>\n",
    "□ Engl: „bag“\n",
    "<br><br>\n",
    "■ Operatoren der relationalen Algebra: Operatoren auf Mengen\n",
    "<br><br>\n",
    "■ Operatoren auf DBMS: SQL Anfragen\n",
    "<br>\n",
    "□ Rel. DBMS speichern Multimengen\n",
    "<br><br>\n",
    "■ Motivation: Effizienzsteigerung\n",
    "<br>\n",
    "□ Beispiel:\n",
    "<br>\n",
    "– Vereinigung als Multimenge\n",
    "<br>\n",
    "– Vereinigung als Menge"
   ]
  },
  {
   "cell_type": "markdown",
   "metadata": {},
   "source": [
    "## Basisoperatoren"
   ]
  },
  {
   "cell_type": "markdown",
   "metadata": {},
   "source": [
    "## Klassifikation der Operatoren"
   ]
  },
  {
   "cell_type": "markdown",
   "metadata": {},
   "source": [
    "■ Mengenoperatoren \n",
    "<br>\n",
    "□ Vereinigung, Schnittmenge, Differenz \n",
    "<br><br>\n",
    "■ Entfernende Operatoren\n",
    "<br>\n",
    "□ Selektion, Projektion\n",
    "<br><br>\n",
    "■ Kombinierende Operatoren \n",
    "<br>\n",
    "□ Kartesisches Produkt, Join, Joinvarianten \n",
    "<br><br>\n",
    "■ Umbenennung \n",
    "<br>\n",
    "□ Verändert nicht Tupel, sondern Schema \n",
    "<br><br>\n",
    "■ Ausdrücke der relationalen Algebra \n",
    "<br>\n",
    "□ Kombination von Operatoren und Operanden \n",
    "<br>\n",
    "□ „Anfragen“ (queries)"
   ]
  },
  {
   "cell_type": "markdown",
   "metadata": {},
   "source": [
    "## Vereinigung (union, $\\cup$)"
   ]
  },
  {
   "cell_type": "markdown",
   "metadata": {},
   "source": [
    "■ Sammelt Elemente (Tupel) zweier Relationen unter einem gemeinsamen Schema auf.\n",
    "<br>\n",
    "□ R ∪ S := {t | t $\\in$ R $\\vee$ t $\\in$ S}\n",
    "<br><br>\n",
    "■ Attributmengen beider Relationen müssen identisch sein.\n",
    "<br>\n",
    "□ Namen, Typen und Reihenfolge\n",
    "<br>\n",
    "□ Zur Not: Umbenennung\n",
    "<br><br>\n",
    "■ Ein Element ist nur einmal in (R ∪ S) vertreten, auch wenn es jeweils einmal in R und S auftaucht.\n",
    "<br>\n",
    "□ Duplikatentfernung"
   ]
  },
  {
   "cell_type": "markdown",
   "metadata": {},
   "source": [
    "## Beispiel für Mengenoperatoren"
   ]
  },
  {
   "cell_type": "markdown",
   "metadata": {},
   "source": [
    "$R$\n",
    "\n",
    "|Name|Adresse|Geschlecht|Geburt|\n",
    "|----|-------|----------|------|\n",
    "|Carrie Fisher|123 Maple St., Hollywood|F|9/9/99|\n",
    "|Mark Hamill|456 Oak. Rd., Brentwood|M|8/8/88|"
   ]
  },
  {
   "cell_type": "markdown",
   "metadata": {},
   "source": [
    "$S$\n",
    "\n",
    "|Name|Adresse|Geschlecht|Geburt|\n",
    "|----|-------|----------|------|\n",
    "|Carrie Fisher|123 Maple St., Hollywood|F|9/9/99|\n",
    "|Harrison Ford|789 Palm Dr., Beverly Hills|M|7/7/77|"
   ]
  },
  {
   "cell_type": "markdown",
   "metadata": {},
   "source": [
    "$R \\cup S$\n",
    "\n",
    "|Name|Adresse|Geschlecht|Geburt|\n",
    "|----|-------|----------|------|\n",
    "|Carrie Fisher|123 Maple St., Hollywood|F|9/9/99|\n",
    "|Mark Hamill|456 Oak. Rd., Brentwood|M|8/8/88|\n",
    "|Harrison Ford|789 Palm Dr., Beverly Hills|M|7/7/77|"
   ]
  },
  {
   "cell_type": "markdown",
   "metadata": {},
   "source": [
    "## Differenz (difference, ―, \\\\)"
   ]
  },
  {
   "cell_type": "markdown",
   "metadata": {},
   "source": [
    "■ Differenz R − S eliminiert die Tupel aus der ersten Relation, die auch in der zweiten Relation vorkommen.\n",
    "<br>\n",
    "□ R − S := {t | t $\\in$ R $\\wedge$ t $\\notin$ S}\n",
    "<br><br>\n",
    "■ Achtung: Schemata von R und S müssen gleich sein.\n",
    "<br><br>\n",
    "■ Achtung: R − S ≠ S − R\n",
    "<br>\n",
    "□ D.h. Kommuntativität gilt nicht"
   ]
  },
  {
   "cell_type": "markdown",
   "metadata": {},
   "source": [
    "## Beispiel für Mengenoperatoren"
   ]
  },
  {
   "cell_type": "markdown",
   "metadata": {},
   "source": [
    "$R$\n",
    "\n",
    "|Name|Adresse|Geschlecht|Geburt|\n",
    "|----|-------|----------|------|\n",
    "|Carrie Fisher|123 Maple St., Hollywood|F|9/9/99|\n",
    "|Mark Hamill|456 Oak. Rd., Brentwood|M|8/8/88|"
   ]
  },
  {
   "cell_type": "markdown",
   "metadata": {},
   "source": [
    "$S$\n",
    "\n",
    "|Name|Adresse|Geschlecht|Geburt|\n",
    "|----|-------|----------|------|\n",
    "|Carrie Fisher|123 Maple St., Hollywood|F|9/9/99|\n",
    "|Harrison Ford|789 Palm Dr., Beverly Hills|M|7/7/77|"
   ]
  },
  {
   "cell_type": "markdown",
   "metadata": {},
   "source": [
    "$R-S$\n",
    "\n",
    "|Name|Adresse|Geschlecht|Geburt|\n",
    "|----|-------|----------|------|\n",
    "|Mark Hamill|456 Oak. Rd., Brentwood|M|8/8/88|"
   ]
  },
  {
   "cell_type": "markdown",
   "metadata": {},
   "source": [
    "## Schnittmenge (intersection, $\\cap$)"
   ]
  },
  {
   "cell_type": "markdown",
   "metadata": {},
   "source": [
    " Schnittmenge R $\\cap$ S ergibt die Tupel, die in beiden Relationen gemeinsam vorkommen.\n",
    " <br> <br>\n",
    "■ R $\\cap$ S := {t | t $\\in$ R $\\wedge$ t $\\in$ S}\n",
    " <br> <br>\n",
    "■ Anmerkung: Schnittmenge ist „überflüssig“. Warum?\n",
    " <br>\n",
    "□ R $\\cap$ S = R − (R − S)\n",
    " <br>\n",
    "= S − (S − R)"
   ]
  },
  {
   "cell_type": "markdown",
   "metadata": {},
   "source": [
    "![title](schnittmenge.jpg)"
   ]
  },
  {
   "cell_type": "markdown",
   "metadata": {},
   "source": [
    "## Beispiel für Mengenoperatoren"
   ]
  },
  {
   "cell_type": "markdown",
   "metadata": {},
   "source": [
    "$R$\n",
    "\n",
    "|Name|Adresse|Geschlecht|Geburt|\n",
    "|----|-------|----------|------|\n",
    "|Carrie Fisher|123 Maple St., Hollywood|F|9/9/99|\n",
    "|Mark Hamill|456 Oak. Rd., Brentwood|M|8/8/88|"
   ]
  },
  {
   "cell_type": "markdown",
   "metadata": {},
   "source": [
    "$S$\n",
    "\n",
    "|Name|Adresse|Geschlecht|Geburt|\n",
    "|----|-------|----------|------|\n",
    "|Carrie Fisher|123 Maple St., Hollywood|F|9/9/99|\n",
    "|Harrison Ford|789 Palm Dr., Beverly Hills|M|7/7/77|"
   ]
  },
  {
   "cell_type": "markdown",
   "metadata": {},
   "source": [
    "$R\\cap S$\n",
    "\n",
    "|Name|Adresse|Geschlecht|Geburt|\n",
    "|----|-------|----------|------|\n",
    "|Carrie Fisher|123 Maple St., Hollywood|F|9/9/99|"
   ]
  },
  {
   "cell_type": "markdown",
   "metadata": {},
   "source": [
    "## Projektion (projection, $\\pi$)"
   ]
  },
  {
   "cell_type": "markdown",
   "metadata": {},
   "source": [
    "■ Unärer Operator\n",
    "<br><br>\n",
    "■ Erzeugt neue Relation mit einer Teilmenge der ursprünglichen Attribute\n",
    "<br><br>\n",
    "■ $\\pi_{A1,A2,…,Ak}$(R) ist eine Relation\n",
    "<br>\n",
    "□ mit den Attributen A1,A2,…,Ak\n",
    "<br>\n",
    "□ Üblicherweise in der aufgelisteten Reihenfolge\n",
    "<br><br>\n",
    "■ Achtung: Es können Duplikate entstehen, die implizit entfernt werden."
   ]
  },
  {
   "cell_type": "markdown",
   "metadata": {},
   "source": [
    "## Projektion – Beispiel"
   ]
  },
  {
   "cell_type": "markdown",
   "metadata": {},
   "source": [
    "Film\n",
    "\n",
    "|Titel|Jahr|Länge|inFarbe|Studio|ProduzentID|\n",
    "|-----|----|-----|-------|------|---------|\n",
    "|Total Recall|1990|113|True|Fox|12345|\n",
    "|Basic Instinct|1992|127|True|Disney|67890|\n",
    "|Dead Man|1995|121|False|Paramount|99999|"
   ]
  },
  {
   "cell_type": "markdown",
   "metadata": {},
   "source": [
    "$\\pi_{Titel,Jahr,Länge}$(Film)\n",
    "\n",
    "|Titel|Jahr|Länge|\n",
    "|-----|----|-----|\n",
    "|Total Recall|1990|113|\n",
    "|Basic Instinct|1992|127|\n",
    "|Dead Man|1995|121|False|"
   ]
  },
  {
   "cell_type": "markdown",
   "metadata": {},
   "source": [
    "$\\pi_{inFarbe}$(Film)\n",
    "\n",
    "|inFarbe|\n",
    "|-------|\n",
    "|True|\n",
    "|False|"
   ]
  },
  {
   "cell_type": "markdown",
   "metadata": {},
   "source": [
    "## Erweiterte Projektion"
   ]
  },
  {
   "cell_type": "markdown",
   "metadata": {},
   "source": [
    "■ Motivation: Dem Projektionsoperator mehr Fähigkeiten geben\n",
    "<br><br>\n",
    "■ Vorher: $\\pi_{L}$(R) wobei L eine Attributliste ist\n",
    "<br><br>\n",
    "■ Nun: Ein Element von L ist eines dieser drei Ausdrücke\n",
    "<br><br>\n",
    "1. Ein Attribut von R (wie zuvor)\n",
    "<br>\n",
    "2. Ein Ausdruck A→B wobei A ein Attribut in R ist und B ein neuer Name ist (Umbennennung).\n",
    "<br>\n",
    "3. Ein Ausdruck e→C, wobei e ein Ausdruck mit Konstanten, arithmetischen Operatoren, Attributen von R und\n",
    "String-Operationen ist, und C ein neuer Name ist.\n",
    "<br>\n",
    "1. A1 + A2 → Summe\n",
    "<br>\n",
    "2. Vorname || \\` \\` || Nachname → Name"
   ]
  },
  {
   "cell_type": "markdown",
   "metadata": {},
   "source": [
    "## Selektion (selection, $\\sigma$)"
   ]
  },
  {
   "cell_type": "markdown",
   "metadata": {},
   "source": [
    "■ Unärer Operator\n",
    "<br><br>\n",
    "■ Erzeugt neue Relation mit gleichem Schema aber einer Teilmenge der Tupel.\n",
    "<br><br>\n",
    "■ Nur Tupel, die der Selektionsbedingung C (condition) entsprechen.\n",
    "<br>\n",
    "□ Selektionsbedingung wie aus Programmiersprachen\n",
    "<br>\n",
    "□ Operanden der Selektionsbedingung sind nur Konstanten oder Attribute von R.\n",
    "<br>\n",
    "– const = const (eigentlich unnötig)\n",
    "<br>\n",
    "– attr = const (typische Selektion)\n",
    "<br>\n",
    "– attr = attr (Join Bedingung)\n",
    "<br>\n",
    "□ Weitere Vergleiche: <, >, ≤, $\\ge$, <>\n",
    "<br>\n",
    "□ Kombination durch AND, OR und NOT\n",
    "<br><br>\n",
    "■ Prüfe Bedingung für jedes Tupel\n",
    "<br><br>\n",
    "Achtung Selektion $\\neq$ SELECT"
   ]
  },
  {
   "cell_type": "markdown",
   "metadata": {},
   "source": [
    "## Selektion – Beispiel"
   ]
  },
  {
   "cell_type": "markdown",
   "metadata": {},
   "source": [
    "Film\n",
    "\n",
    "|Titel|Jahr|Länge|inFarbe|Studio|ProduzentID|\n",
    "|-----|----|-----|-------|------|---------|\n",
    "|Total Recall|1990|113|True|Fox|12345|\n",
    "|Basic Instinct|1992|127|True|Disney|67890|\n",
    "|Dead Man|1995|90|False|Paramount|99999|"
   ]
  },
  {
   "cell_type": "markdown",
   "metadata": {},
   "source": [
    "$\\sigma_{Länge\\geq100}$(Film)\n",
    "\n",
    "|Titel|Jahr|Länge|inFarbe|Studio|ProduzentID|\n",
    "|-----|----|-----|-------|------|---------|\n",
    "|Total Recall|1990|113|True|Fox|12345|\n",
    "|Basic Instinct|1992|127|True|Disney|67890|"
   ]
  },
  {
   "cell_type": "markdown",
   "metadata": {},
   "source": [
    "$\\sigma_{Länge\\geq100 AND Studio='Fox'}$(Film)\n",
    "\n",
    "|Titel|Jahr|Länge|inFarbe|Studio|ProduzentID|\n",
    "|-----|----|-----|-------|------|---------|\n",
    "|Total Recall|1990|113|True|Fox|12345|"
   ]
  },
  {
   "cell_type": "markdown",
   "metadata": {},
   "source": [
    "## Kartesisches Produkt (Cartesian product, cross product $\\times$)"
   ]
  },
  {
   "cell_type": "markdown",
   "metadata": {},
   "source": [
    "■ Binärer Operator\n",
    "<br><br>\n",
    "■ Auch: Kreuzprodukt oder Produkt\n",
    "<br><br>\n",
    "■ Auch: R * S statt R $\\times$ S\n",
    "<br><br>\n",
    "■ Kreuzprodukt zweier Relationen R und S ist die Menge aller Tupel, die man erhält, wenn man jedes Tupel aus R\n",
    "mit jedem Tupel aus S „paart“.\n",
    "<br><br>\n",
    "■ Schema hat ein Attribut für jedes Attribut aus R und S\n",
    "<br>\n",
    "□ Achtung: Bei Namensgleichheit wird kein Attribut ausgelassen\n",
    "<br>\n",
    "□ Stattdessen: Umbenennen"
   ]
  },
  {
   "cell_type": "markdown",
   "metadata": {},
   "source": [
    "![title](descartes.jpg)"
   ]
  },
  {
   "cell_type": "markdown",
   "metadata": {},
   "source": [
    "## Kartesisches Produkt – Beispiel"
   ]
  },
  {
   "cell_type": "markdown",
   "metadata": {},
   "source": [
    "$R$\n",
    "\n",
    "|A|B|\n",
    "|-|-|\n",
    "|1|2|\n",
    "|3|4|"
   ]
  },
  {
   "cell_type": "markdown",
   "metadata": {},
   "source": [
    "$S$\n",
    "\n",
    "|B|C|D|\n",
    "|-|-|-|\n",
    "|2|5|6|\n",
    "|4|7|8|\n",
    "|9|10|11|"
   ]
  },
  {
   "cell_type": "markdown",
   "metadata": {},
   "source": [
    "$R \\times S$\n",
    "\n",
    "|A|R.B|S.B|C|D|\n",
    "|-|--|--|-|-|\n",
    "|1|2|2|5|6|\n",
    "|1|2|4|7|8|\n",
    "|1|2|9|10|11|\n",
    "|3|4|2|5|6|\n",
    "|3|4|4|7|8|\n",
    "|3|4|9|10|11|"
   ]
  },
  {
   "cell_type": "markdown",
   "metadata": {},
   "source": [
    "## Der Join – Operatorfamilie"
   ]
  },
  {
   "cell_type": "markdown",
   "metadata": {},
   "source": [
    "■ Natürlicher Join (natural join)\n",
    "<br><br>\n",
    "■ Theta-Join\n",
    "<br><br>\n",
    "■ Equi-Join\n",
    "<br><br>\n",
    "■ Semi-Join und Anti-Join\n",
    "<br><br>\n",
    "■ Left-outer Join und Right-outer Join\n",
    "<br><br>\n",
    "■ Full-outer Join"
   ]
  },
  {
   "cell_type": "markdown",
   "metadata": {},
   "source": [
    "### Natürlicher Join (natural join, ⋈)"
   ]
  },
  {
   "cell_type": "markdown",
   "metadata": {},
   "source": [
    "■ Binärer Operator\n",
    "<br><br>\n",
    "■ Motivation: Statt im Kreuzprodukt alle Paare zu bilden, sollen nur die Tupelpaare gebildet werden, deren Tupel\n",
    "„irgendwie“ übereinstimmen.\n",
    "<br>\n",
    "□ Auch: „Verbund“\n",
    "<br>\n",
    "□ Beim natürlichen Join: Übereinstimmung in allen gemeinsamen Attributen.\n",
    "<br>\n",
    "□ Gegebenenfalls Umbenennung\n",
    "<br>\n",
    "□ Schema: Vereinigung der beiden Attributmengen"
   ]
  },
  {
   "cell_type": "markdown",
   "metadata": {},
   "source": [
    "![title](njoin.jpg)"
   ]
  },
  {
   "cell_type": "markdown",
   "metadata": {},
   "source": [
    "■ Notation: r[A] sei Projektion der Tupels r auf Attribut A\n",
    "<br><br>\n",
    "■ Seien A1,…,Ak die gemeinsamen Attribute von R und S\n",
    "<br><br>\n",
    "■ R ⋈ S = {r $\\cup$ s | r$\\in$R $\\wedge$ s$\\in$S $\\wedge$ r[A1]=s[A1] $\\wedge$ … $\\wedge$ r[Ak]=s[Ak] }\n",
    "<br><br>\n",
    "■ Alternative, üblichere Definition\n",
    "<br>\n",
    "□ R ⋈ S = s r[A1]=s[A1] $\\wedge$ … $\\wedge$ r[Ak]=s[Ak](R × S)\n",
    "<br>\n",
    "□ Achtung: Eigentlich noch ordentlich projizieren"
   ]
  },
  {
   "cell_type": "markdown",
   "metadata": {},
   "source": [
    "### Natürlicher Join – Beispiel"
   ]
  },
  {
   "cell_type": "markdown",
   "metadata": {},
   "source": [
    "$R$\n",
    "\n",
    "|A|B|\n",
    "|-|-|\n",
    "|1|2|\n",
    "|3|4|"
   ]
  },
  {
   "cell_type": "markdown",
   "metadata": {},
   "source": [
    "$S$\n",
    "\n",
    "|B|C|D|\n",
    "|-|-|-|\n",
    "|2|5|6|\n",
    "|4|7|8|\n",
    "|9|10|11|"
   ]
  },
  {
   "cell_type": "markdown",
   "metadata": {},
   "source": [
    "$R ⋈ S$\n",
    "\n",
    "|A|B|C|D|\n",
    "|-|-|-|-|\n",
    "|1|2|5|6|\n",
    "|3|4|7|8|"
   ]
  },
  {
   "cell_type": "markdown",
   "metadata": {},
   "source": [
    "$R \\times S$\n",
    "\n",
    "|A|R.B|S.B|C|D|\n",
    "|---|---|---|---|---|\n",
    "|1|2|2|5|6|\n",
    "|1|2|4|7|8|\n",
    "|1|2|9|10|11|\n",
    "|3|4|2|5|6|\n",
    "|3|4|4|7|8|\n",
    "|3|4|9|10|11|"
   ]
  },
  {
   "cell_type": "markdown",
   "metadata": {},
   "source": [
    "$R$\n",
    "\n",
    "|A|B|C|\n",
    "|-|-|-|\n",
    "|1|2|3|\n",
    "|6|7|8|\n",
    "|9|7|8|"
   ]
  },
  {
   "cell_type": "markdown",
   "metadata": {},
   "source": [
    "$S$\n",
    "\n",
    "|B|C|D|\n",
    "|-|-|-|\n",
    "|2|5|6|\n",
    "|2|3|5|\n",
    "|7|8|10|"
   ]
  },
  {
   "cell_type": "markdown",
   "metadata": {},
   "source": [
    "$R ⋈ S$\n",
    "\n",
    "|A|B|C|D|\n",
    "|-|-|-|-|\n",
    "|1|2|3|5|\n",
    "|6|7|8|10|\n",
    "|9|7|8|10|"
   ]
  },
  {
   "cell_type": "markdown",
   "metadata": {},
   "source": [
    "■ Anmerkungen\n",
    "<br>\n",
    "□ Mehr als ein gemeinsames Attribut\n",
    "<br>\n",
    "□ Tupel werden mit mehr als einem Partner verknüpft"
   ]
  },
  {
   "cell_type": "markdown",
   "metadata": {},
   "source": [
    "### Theta-Join (theta-join, $⋈_\\theta$)"
   ]
  },
  {
   "cell_type": "markdown",
   "metadata": {},
   "source": [
    "■ Verallgemeinerung des natürlichen Joins\n",
    "<br><br>\n",
    "■ Verknüpfungsbedingung kann selbst gestaltet werden\n",
    "<br><br>\n",
    "■ Konstruktion des Ergebnisses:\n",
    "<br>\n",
    "□ Bilde Kreuzprodukt der beiden Relationen\n",
    "<br>\n",
    "□ Selektiere mittels der gegebenen Joinbedingung\n",
    "<br>\n",
    "□ Also: R ⋈$A_\\theta$ B S = s $A_\\theta$ B (R $\\times$ S)\n",
    "<br>\n",
    "□ $\\theta$ ∈ {=, <, >, ≤, ≥, ≠}\n",
    "<br>\n",
    "□ A ist Attribut in R; B ist Attribut in S\n",
    "<br><br>\n",
    "■ Schema: Wie beim Kreuzprodukt\n",
    "<br><br>\n",
    "■ Equi-Join ist ein Spezialfall des Theta-Joins mit Operator „=“\n",
    "<br><br>\n",
    "■ Natural Join ist ein Spezialfall des Theta-Joins\n",
    "<br>\n",
    "□ Aber: Schema des Ergebnisses sieht anders aus.\n",
    "<br>\n",
    "□ R(A,B,C) ⋈ S(B,C,D) = $\\rho_{T(A,B,C,D)}$($\\pi_{A,R.B,R.C,D}$($\\sigma_{(R.B=S.B AND R.C = S.C)}$ ($R \\times S$)))\n",
    "<br>\n",
    "->Umbenennung"
   ]
  },
  {
   "cell_type": "markdown",
   "metadata": {},
   "source": [
    "### Theta-Join – Beispiel"
   ]
  },
  {
   "cell_type": "markdown",
   "metadata": {},
   "source": [
    "$R$\n",
    "\n",
    "|A|B|C|\n",
    "|-|-|-|\n",
    "|1|2|3|\n",
    "|6|7|8|\n",
    "|9|7|8|"
   ]
  },
  {
   "cell_type": "markdown",
   "metadata": {},
   "source": [
    "$S$\n",
    "\n",
    "|B|C|D|\n",
    "|-|-|-|\n",
    "|2|5|6|\n",
    "|2|3|5|\n",
    "|7|8|10|"
   ]
  },
  {
   "cell_type": "markdown",
   "metadata": {},
   "source": [
    "$R ⋈_{A<D}S$\n",
    "\n",
    "|A|R.B|R.C|S.B|S.C|D|\n",
    "|-|--|--|--|--|-|\n",
    "|1|2|3|2|5|6|\n",
    "|1|2|3|2|3|5|\n",
    "|1|2|3|7|8|10|\n",
    "|6|7|8|7|8|10|\n",
    "|9|7|8|7|8|10|"
   ]
  },
  {
   "cell_type": "markdown",
   "metadata": {},
   "source": [
    "$R ⋈_{A<D \\wedge R.B \\neq S.B}S$\n",
    "\n",
    "|A|R.B|R.C|S.B|S.C|D|\n",
    "|-|--|--|--|--|-|\n",
    "|1|2|3|7|8|10|"
   ]
  },
  {
   "cell_type": "markdown",
   "metadata": {},
   "source": [
    "### Komplexe Ausdrücke"
   ]
  },
  {
   "cell_type": "markdown",
   "metadata": {},
   "source": [
    "■ Idee: Kombination (Schachtelung) von Ausdrücken zur Formulierung komplexer Anfragen.\n",
    "<br>\n",
    "□ Abgeschlossenheit der relationalen Algebra\n",
    "<br>\n",
    "– Output eines Ausdrucks ist immer eine Relation.\n",
    "<br><br>\n",
    "□ Darstellung\n",
    "<br>\n",
    "– Als geschachtelter Ausdruck mittels Klammerung\n",
    "<br>\n",
    "– Als Baum"
   ]
  },
  {
   "cell_type": "markdown",
   "metadata": {},
   "source": [
    "Film\n",
    "\n",
    "|Titel|Jahr|Länge|Typ|StudioName|\n",
    "|-----|----|-----|---|----------|\n",
    "|Total Recall|1990|113|Farbe|Fox|\n",
    "|Basic Instinct|1992|127|Farbe|Disney|\n",
    "|Dead Man|1995|90|s/w|Paramount|"
   ]
  },
  {
   "cell_type": "markdown",
   "metadata": {},
   "source": [
    "■ Gesucht: Titel und Jahr von Filmen, die von Fox produziert wurden und mindestens 100\n",
    "Minuten lang sind.\n",
    "<br>\n",
    "□ Suche alle Filme von Fox\n",
    "<br>\n",
    "□ Suche alle Filme mit mindestens 100 Minuten\n",
    "<br>\n",
    "□ Bilde die Schnittmenge der beiden Zwischenergebnisse\n",
    "<br>\n",
    "□ Projiziere die Relation auf die Attribute Titel und Jahr.\n",
    "<br>\n",
    "□ $\\rho_{Titel,Jahr}$($\\sigma_{Länge≥100}$(Film) $\\cap$ $\\sigma_{StudioName=‚Fox‘}$(Film))\n",
    "<br>\n",
    "□ Alternative: $\\pi_{Titel,Jahr}$($\\sigma_{Länge≥100 AND StudioName=‚Fox‘}$(Film))\n",
    "<br>\n",
    "– U.v.a.m."
   ]
  },
  {
   "cell_type": "markdown",
   "metadata": {},
   "source": [
    "### Komplexe Ausdrücke – Beispiel"
   ]
  },
  {
   "cell_type": "markdown",
   "metadata": {},
   "source": [
    "■$\\rho_{Titel,Jahr}$($\\sigma_{Länge≥100(Film)}$ $\\cap$ $\\sigma_{StudioName=‚Fox‘}$(Film))"
   ]
  },
  {
   "cell_type": "markdown",
   "metadata": {},
   "source": [
    "![title](komplex_bsp1.jpg)"
   ]
  },
  {
   "cell_type": "markdown",
   "metadata": {},
   "source": [
    "■ Alternative: $\\rho_{Titel,Jahr}$($\\sigma_{Länge≥100 AND StudioName=‚Fox‘}$(Film))"
   ]
  },
  {
   "cell_type": "markdown",
   "metadata": {},
   "source": [
    "### Komplexe Ausdrücke – Beispiel"
   ]
  },
  {
   "cell_type": "markdown",
   "metadata": {},
   "source": [
    "Film\n",
    "\n",
    "|Titel|Jahr|Länge|Typ|StudioName|\n",
    "|-----|----|-----|---|----------|\n",
    "|Total Recall|1990|113|Farbe|Fox|\n",
    "|Basic Instinct|1992|127|Farbe|Disney|\n",
    "|Dead Man|1995|90|s/w|Paramount|"
   ]
  },
  {
   "cell_type": "markdown",
   "metadata": {},
   "source": [
    "Rolle\n",
    "\n",
    "|Titel|Jahr|SchauspName|\n",
    "|-----|----|-----------|\n",
    "|Total Recall|1990|Sharon Stone|\n",
    "|Basic Instinct|1992|Sharon Stone|\n",
    "|Total Recall|1990|Arnold|\n",
    "|Dead Man|1995|Johnny Depp|"
   ]
  },
  {
   "cell_type": "markdown",
   "metadata": {},
   "source": [
    "■ Gesucht: Namen aller Schauspieler, die in Filmen spielten, die mindestens 100 Minuten lang\n",
    "sind.\n",
    "<br>\n",
    "□ Verjoine beide Relationen (natürlicher Join)\n",
    "<br>\n",
    "□ Selektiere Filme, die mindestens 100 Minuten lang sind.\n",
    "<br>\n",
    "□ $\\rho_{SchauspName}$($\\sigma_{Länge≥100}$(Film ⋈ Rolle))"
   ]
  },
  {
   "cell_type": "markdown",
   "metadata": {},
   "source": [
    "■ Stud(Matrikel, Name, Semester)\n",
    "<br>\n",
    "■ Prof(ProfName, Fachgebiet, GebJahr)\n",
    "<br>\n",
    "■ VL(VL_ID, Titel, Saal)\n",
    "<br>\n",
    "■ Lehrt(ProfName, VL_ID)\n",
    "<br>\n",
    "■ Hört(Matrikel,VL_ID)\n",
    "<br>\n",
    "■ Gesucht: Unterschiedliche Semester aller Studierenden, die eine Vorlesung eines Professors des Jahrgangs 1960\n",
    "in Hörsaal 1 hören.\n",
    "<br>\n",
    "■ $\\rho_{Sem}$((($\\sigma_{Saal=1}$((($\\sigma_{GebJahr = 1960}$(Professor))⋈Lehrt)⋈VL)⋈Hört)⋈Stud))"
   ]
  },
  {
   "cell_type": "markdown",
   "metadata": {},
   "source": [
    "### Umbenennung (rename, $\\rho$)"
   ]
  },
  {
   "cell_type": "markdown",
   "metadata": {},
   "source": [
    "■ Unärer Operator\n",
    "<br>\n",
    "<br>\n",
    "■ Motivation: Zur Kontrolle der Schemata und einfacheren Verknüpfungen\n",
    "<br>\n",
    "□ $\\rho_{S(A1,…,An)}$(R)\n",
    "<br>\n",
    "– Benennt Relation R in S um\n",
    "<br>\n",
    "– Benennt die Attribute der neuen Relation A1,…,An\n",
    "<br>\n",
    "□ $\\rho_{S(R)}$ benennt nur Relation um.\n",
    "<br>\n",
    "■ Durch Umbenennung ermöglicht\n",
    "<br>\n",
    "□ Mengenoperationen\n",
    "<br>\n",
    "– Nur möglich bei gleichen Schemata\n",
    "<br>\n",
    "□ Joins, wo bisher kartesische Produkte ausgeführt wurde\n",
    "<br>\n",
    "– Unterschiedliche Attribute werden gleich benannt.\n",
    "<br>\n",
    "□ Kartesische Produkte, wo bisher Joins ausgeführt wurden\n",
    "<br>\n",
    "– Gleiche Attribute werden unterschiedlich genannt."
   ]
  },
  {
   "cell_type": "markdown",
   "metadata": {},
   "source": [
    "### Umbenennung – Beispiel"
   ]
  },
  {
   "cell_type": "markdown",
   "metadata": {},
   "source": [
    "$R$\n",
    "\n",
    "|A|B|\n",
    "|-|-|\n",
    "|1|2|\n",
    "|3|4|"
   ]
  },
  {
   "cell_type": "markdown",
   "metadata": {},
   "source": [
    "$S$\n",
    "\n",
    "|B|C|D|\n",
    "|-|-|-|\n",
    "|2|5|6|\n",
    "|4|7|8|\n",
    "|9|10|11"
   ]
  },
  {
   "cell_type": "markdown",
   "metadata": {},
   "source": [
    "$R \\times \\rho_{s(X,C,D)}(S)$\n",
    "\n",
    "|A|B|X|C|D|\n",
    "|-|-|-|-|-|\n",
    "|1|2|2|5|6|\n",
    "|1|2|4|7|8|\n",
    "|1|2|9|10|11\n",
    "|3|4|2|5|6|\n",
    "|3|4|4|7|8|\n",
    "|3|4|9|10|11"
   ]
  },
  {
   "cell_type": "markdown",
   "metadata": {},
   "source": [
    "■ Alternativer Ausdruck: $\\rho_{S(A,B,X,C,D)}$(R $\\times$ S)"
   ]
  },
  {
   "cell_type": "markdown",
   "metadata": {},
   "source": [
    "### Unabhängigkeit und Vollständigkeit"
   ]
  },
  {
   "cell_type": "markdown",
   "metadata": {},
   "source": [
    " Minimale Relationenalgebra:\n",
    " <br>\n",
    "□ π, σ, $\\times$ , −, ∪ (und r)\n",
    " <br>\n",
    "■ Unabhängig:\n",
    " <br>\n",
    "□ Kein Operator kann weggelassen werden ohne Vollständigkeit zu verlieren.\n",
    " <br> <br>\n",
    "■ Natural Join, Join und Schnittmenge sind redundant\n",
    " <br>\n",
    "□ R $\\cap$ S = R − (R − S)\n",
    " <br>\n",
    "□ R ⋈C S = $\\sigma_C$(R $\\times$ S) \n",
    " <br>\n",
    "□ R ⋈ S = $\\pi_{L}$($\\sigma_{R.A1=S.A1 AND … AND R.An=S.An}$(R $\\times$ S))"
   ]
  },
  {
   "cell_type": "markdown",
   "metadata": {},
   "source": [
    "## Vorschau zu Optimierung"
   ]
  },
  {
   "cell_type": "markdown",
   "metadata": {},
   "source": [
    "■ Beispiele für algebraische Regeln zur Transformation\n",
    "<br>\n",
    "□ R ⋈ S = S ⋈ R\n",
    "<br>\n",
    "□ (R ⋈ S) ⋈ T = R ⋈ (S ⋈ T)\n",
    "<br>\n",
    "□ $\\rho_{Y}(\\rho_{X}(R)) = \\rho_{Y}(R)$\n",
    "<br>\n",
    "– Falls Y ⊆ X\n",
    "<br>\n",
    "□ $\\sigma_{A=a}(\\sigma_{B=b}(R))= \\sigma_{B=b}(\\sigma_{A=a}(R)) [ = \\sigma_{B=b\\wedge A=a}(R) ]$\n",
    "<br>\n",
    "□ $\\pi_{X}(\\sigma_{A=a}(R)) = \\sigma_{A=a}(\\pi_{X}(R))$\n",
    "<br>\n",
    "– Falls A ⊆ X\n",
    "<br>\n",
    "□ $\\sigma_{A=a}(R ∪ S) = \\sigma_{A=a}(R) ∪ \\sigma_{A=a}(S)$\n",
    "<br>\n",
    "■ Jeweils: Welche Seite ist besser?"
   ]
  },
  {
   "cell_type": "markdown",
   "metadata": {},
   "source": [
    "## Operatoren auf Multimengen"
   ]
  },
  {
   "cell_type": "markdown",
   "metadata": {},
   "source": [
    "### Motivation"
   ]
  },
  {
   "cell_type": "markdown",
   "metadata": {},
   "source": [
    " Mengen sind ein natürliches Konstrukt\n",
    " <br>\n",
    "□ Keine Duplikate\n",
    " <br> <br>\n",
    "■ Kommerzielle DBMS basieren fast nie nur auf Mengen\n",
    " <br>\n",
    "□ Sondern erlauben Multimengen\n",
    " <br>\n",
    "□ D.h. Duplikate sind erlaubt\n",
    " <br> <br>\n",
    "■ Multimenge\n",
    " <br>\n",
    "□ bag, multiset "
   ]
  },
  {
   "cell_type": "markdown",
   "metadata": {},
   "source": [
    "|A|B|\n",
    "|-|-|\n",
    "|1|2|\n",
    "|3|4|\n",
    "|1|2|\n",
    "|1|2|\n",
    "\n",
    "Multimenge\n",
    "<br>\n",
    "Reihenfolge ist weiter unwichtig"
   ]
  },
  {
   "cell_type": "markdown",
   "metadata": {},
   "source": [
    "### Effizienz durch Multimengen"
   ]
  },
  {
   "cell_type": "markdown",
   "metadata": {},
   "source": [
    "■ Bei Vereinigung\n",
    "<br>\n",
    "□ Direkt „aneinanderhängen“\n",
    "<br><br>\n",
    "■ Bei Projektion\n",
    "<br>\n",
    "□ Einfach Attributwerte „abschneiden“\n",
    "<br><br>\n",
    "■ Nach Duplikaten suchen\n",
    "<br>\n",
    "□ Jedes Tupel im Ergebnis mit jedem anderen vergleichen\n",
    "<br>\n",
    "□ O(n²)\n",
    "<br><br>\n",
    "■ Effizienter nach Duplikaten suchen\n",
    "<br>\n",
    "□ Nach allen Attributen zugleich sortieren: O(n log n)\n",
    "<br><br>\n",
    "■ Bei Aggregation\n",
    "<br>\n",
    "□ Duplikateliminierung sogar schädlich bzw. unintuitiv\n",
    "<br>\n",
    "□ AVG(A) = ?"
   ]
  },
  {
   "cell_type": "markdown",
   "metadata": {},
   "source": [
    "Projektion auf (A,B)\n",
    "\n",
    "|A|B|C|\n",
    "|-|-|-|\n",
    "|1|2|5|\n",
    "|3|4|6|\n",
    "|1|2|7|\n",
    "|1|2|8|"
   ]
  },
  {
   "cell_type": "markdown",
   "metadata": {},
   "source": [
    "### Vereinigung auf Multimengen"
   ]
  },
  {
   "cell_type": "markdown",
   "metadata": {},
   "source": [
    " Sei R eine Multimenge\n",
    " <br>\n",
    "□ Tupel t erscheine n-mal in R.\n",
    " <br> <br>\n",
    "■ Sei S eine Multimenge\n",
    " <br>\n",
    "□ Tupel t erscheine m-mal in S.\n",
    " <br>\n",
    "■ Tupel t erscheint in R $\\cup$ S\n",
    "<br>\n",
    "□ (n+m) mal."
   ]
  },
  {
   "cell_type": "markdown",
   "metadata": {},
   "source": [
    "$R$\n",
    "\n",
    "|A|B|\n",
    "|-|-|\n",
    "|1|2|\n",
    "|3|4|\n",
    "|1|2|\n",
    "|1|2|"
   ]
  },
  {
   "cell_type": "markdown",
   "metadata": {},
   "source": [
    "$S$\n",
    "\n",
    "|A|B|\n",
    "|-|-|\n",
    "|1|2|\n",
    "|3|4|\n",
    "|3|4|\n",
    "|5|6|"
   ]
  },
  {
   "cell_type": "markdown",
   "metadata": {},
   "source": [
    "$R \\cup S$\n",
    "\n",
    "|A|B|\n",
    "|-|-|\n",
    "|1|2|\n",
    "|3|4|\n",
    "|1|2|\n",
    "|1|2|\n",
    "|1|2|\n",
    "|3|4|\n",
    "|3|4|\n",
    "|5|6|"
   ]
  },
  {
   "cell_type": "markdown",
   "metadata": {},
   "source": [
    "### Schnittmenge auf Multimengen"
   ]
  },
  {
   "cell_type": "markdown",
   "metadata": {},
   "source": [
    "■ Sei R eine Multimenge\n",
    "<br>\n",
    "□ Tupel t erscheine n-mal in R.\n",
    "<br><br>\n",
    "■ Sei S eine Multimenge\n",
    "<br>\n",
    "□ Tupel t erscheine m-mal in S.\n",
    "<br><br>\n",
    "■ Tupel t erscheint in R $\\cap$ S\n",
    "<br>\n",
    "□ min(n,m) mal."
   ]
  },
  {
   "cell_type": "markdown",
   "metadata": {},
   "source": [
    "$R$\n",
    "\n",
    "|A|B|\n",
    "|-|-|\n",
    "|1|2|\n",
    "|3|4|\n",
    "|1|2|\n",
    "|3|4|\n",
    "|1|2|"
   ]
  },
  {
   "cell_type": "markdown",
   "metadata": {},
   "source": [
    "$S$\n",
    "\n",
    "|A|B|\n",
    "|-|-|\n",
    "|1|2|\n",
    "|3|4|\n",
    "|3|4|\n",
    "|5|6|"
   ]
  },
  {
   "cell_type": "markdown",
   "metadata": {},
   "source": [
    "$R \\cap S$\n",
    "\n",
    "|A|B|\n",
    "|-|-|\n",
    "|1|2|\n",
    "|3|4|\n",
    "|3|4|\n"
   ]
  },
  {
   "cell_type": "markdown",
   "metadata": {},
   "source": [
    "## Differenz auf Multimengen"
   ]
  },
  {
   "cell_type": "markdown",
   "metadata": {},
   "source": [
    "■ Sei R eine Multimenge\n",
    "<br>\n",
    "□ Tupel t erscheine n-mal in R.\n",
    "<br><br>\n",
    "■ Sei S eine Multimenge\n",
    "<br>\n",
    "□ Tupel t erscheine m-mal in S.\n",
    "<br><br>\n",
    "■ Tupel t erscheint in R − S\n",
    "<br>\n",
    "□ max(0, n−m) mal.\n",
    "<br>\n",
    "□ Falls t öfter in R als in S vorkommt, bleiben n−m t übrig.\n",
    "<br>\n",
    "□ Falls t öfter in S als in R vorkommt, bleibt kein t übrig.\n",
    "<br>\n",
    "□ Jedes Vorkommen von t in S eliminiert ein t in R."
   ]
  },
  {
   "cell_type": "markdown",
   "metadata": {},
   "source": [
    "$R$\n",
    "\n",
    "|A|B|\n",
    "|-|-|\n",
    "|1|2|\n",
    "|3|4|\n",
    "|1|2|\n",
    "|1|2|"
   ]
  },
  {
   "cell_type": "markdown",
   "metadata": {},
   "source": [
    "$S$\n",
    "\n",
    "|A|B|\n",
    "|-|-|\n",
    "|1|2|\n",
    "|3|4|\n",
    "|3|4|\n",
    "|5|6|"
   ]
  },
  {
   "cell_type": "markdown",
   "metadata": {},
   "source": [
    "$R-S$\n",
    "\n",
    "|A|B|\n",
    "|-|-|\n",
    "|1|2|\n",
    "|1|2|"
   ]
  },
  {
   "cell_type": "markdown",
   "metadata": {},
   "source": [
    "$S-R$\n",
    "\n",
    "|A|B|\n",
    "|-|-|\n",
    "|3|4|\n",
    "|5|6|"
   ]
  },
  {
   "cell_type": "markdown",
   "metadata": {},
   "source": [
    "### Projektion und Selektion auf Multimengen"
   ]
  },
  {
   "cell_type": "markdown",
   "metadata": {},
   "source": [
    "■ Projektion\n",
    "<br>\n",
    "□ Bei der Projektion können neue Duplikate entstehen.\n",
    "<br>\n",
    "□ Diese werden nicht entfernt\n",
    "<br><br>\n",
    "■ Selektion\n",
    "<br>\n",
    "□ Selektionsbedingung auf jedes Tupel einzeln und unabhängig anwenden\n",
    "<br>\n",
    "□ Schon vorhandene Duplikate bleiben erhalten\n",
    "<br>\n",
    "– Sofern sie beide selektiert bleiben"
   ]
  },
  {
   "cell_type": "markdown",
   "metadata": {},
   "source": [
    "$R$\n",
    "\n",
    "|A|B|C|\n",
    "|-|-|-|\n",
    "|1|2|5|\n",
    "|3|4|6|\n",
    "|1|2|7|\n",
    "|1|2|7|"
   ]
  },
  {
   "cell_type": "markdown",
   "metadata": {},
   "source": [
    "$\\pi_{A,B}(R)$\n",
    "\n",
    "|A|B|\n",
    "|-|-|\n",
    "|1|2|\n",
    "|3|4|\n",
    "|1|2|\n",
    "|1|2|"
   ]
  },
  {
   "cell_type": "markdown",
   "metadata": {},
   "source": [
    "$\\sigma_{C\\geq6}(R)$\n",
    "\n",
    "|A|B|C|\n",
    "|-|-|-|\n",
    "|1|2|5|\n",
    "|3|4|6|\n",
    "|1|2|7|\n",
    "|1|2|7|"
   ]
  },
  {
   "cell_type": "markdown",
   "metadata": {},
   "source": [
    "### Kreuzprodukt auf Multimengen"
   ]
  },
  {
   "cell_type": "markdown",
   "metadata": {},
   "source": [
    " Sei R eine Multimenge\n",
    " <br>\n",
    "□ Tupel t erscheine n-mal in R.\n",
    " <br>\n",
    "■ Sei S eine Multimenge\n",
    " <br>\n",
    "□ Tupel u erscheine m-mal in S.\n",
    "<br>\n",
    "■ Das Tupel tu erscheint in R $\\times$ S n·m-mal."
   ]
  },
  {
   "cell_type": "markdown",
   "metadata": {},
   "source": [
    "$R$\n",
    "\n",
    "|A|B|\n",
    "|-|-|\n",
    "|1|2|\n",
    "|1|2|"
   ]
  },
  {
   "cell_type": "markdown",
   "metadata": {},
   "source": [
    "$S$\n",
    "\n",
    "|B|C|\n",
    "|-|-|\n",
    "|2|3|\n",
    "|4|5|\n",
    "|4|5|"
   ]
  },
  {
   "cell_type": "markdown",
   "metadata": {},
   "source": [
    "$R \\times S$\n",
    "\n",
    "|A|R.B|S.B|C|\n",
    "|-|---|---|-|\n",
    "|1|2|2|3|\n",
    "|1|2|2|3|\n",
    "|1|2|4|5|\n",
    "|1|2|4|5|\n",
    "|1|2|4|5|\n",
    "|1|2|4|5|"
   ]
  },
  {
   "cell_type": "markdown",
   "metadata": {},
   "source": [
    "### Joins auf Multimengen"
   ]
  },
  {
   "cell_type": "markdown",
   "metadata": {},
   "source": [
    "■ Keine Überraschungen"
   ]
  },
  {
   "cell_type": "markdown",
   "metadata": {},
   "source": [
    "$R$\n",
    "\n",
    "|A|B|\n",
    "|-|-|\n",
    "|1|2|\n",
    "|1|2|"
   ]
  },
  {
   "cell_type": "markdown",
   "metadata": {},
   "source": [
    "$S$\n",
    "\n",
    "|B|C|\n",
    "|-|-|\n",
    "|2|3|\n",
    "|4|5|\n",
    "|4|5|"
   ]
  },
  {
   "cell_type": "markdown",
   "metadata": {},
   "source": [
    "$R⋈S$\n",
    "\n",
    "|A|B|C|\n",
    "|-|-|-|\n",
    "|1|2|3|\n",
    "|1|2|3|"
   ]
  },
  {
   "cell_type": "markdown",
   "metadata": {},
   "source": [
    "$R⋈_{R.B<S.B}S$\n",
    "\n",
    "|A|R.B|S.B|C|\n",
    "|-|---|---|-|\n",
    "|1|2|4|5|\n",
    "|1|2|4|5|\n",
    "|1|2|4|5|\n",
    "|1|2|4|5|"
   ]
  },
  {
   "cell_type": "markdown",
   "metadata": {},
   "source": [
    "## Erweiterte Operatoren"
   ]
  },
  {
   "cell_type": "markdown",
   "metadata": {},
   "source": [
    "## Überblick über Erweiterungen"
   ]
  },
  {
   "cell_type": "markdown",
   "metadata": {},
   "source": [
    "Duplikateliminierung \n",
    " <br>\n",
    " ■ Aggregation \n",
    "  <br>\n",
    " ■ Gruppierung \n",
    "  <br>\n",
    " ■ Sortierung\n",
    "  <br>\n",
    " ■ Outer Join \n",
    "  <br>\n",
    " ■ Outer Union\n",
    "  <br>\n",
    " ■ Semijoin \n",
    "  <br>\n",
    " ■ (Division)"
   ]
  },
  {
   "cell_type": "markdown",
   "metadata": {},
   "source": [
    "### Duplikateliminierung (duplicate elimination, $\\delta$)"
   ]
  },
  {
   "cell_type": "markdown",
   "metadata": {},
   "source": [
    "■ Wandelt eine Multimenge in eine Menge um.\n",
    "<br>\n",
    "□ Durch Löschen aller Kopien von Tupeln\n",
    "<br>\n",
    "□ $\\delta$(R)\n",
    "<br>\n",
    "– Strenggenommen unnötig: Mengensemantik der relationalen Algebra"
   ]
  },
  {
   "cell_type": "markdown",
   "metadata": {},
   "source": [
    "$R$\n",
    "\n",
    "|A|B|C|\n",
    "|-|-|-|\n",
    "|1|2|a|\n",
    "|3|4|b|\n",
    "|1|2|c|\n",
    "|1|2|d|"
   ]
  },
  {
   "cell_type": "markdown",
   "metadata": {},
   "source": [
    "$\\delta(\\pi_{A,B}(R))$\n",
    "\n",
    "|A|B|\n",
    "|-|-|\n",
    "|1|2|\n",
    "|3|4|"
   ]
  },
  {
   "cell_type": "markdown",
   "metadata": {},
   "source": [
    "### Aggregation"
   ]
  },
  {
   "cell_type": "markdown",
   "metadata": {},
   "source": [
    "■ Aggregation fasst Werte einer Spalte zusammen.\n",
    "<br>\n",
    "□ Operation auf einer Menge oder Multimenge atomarer Werte (nicht Tupel)\n",
    "<br>\n",
    "□ Null-Werte gehen idR nicht mit ein\n",
    "<br>\n",
    "□ Summe (SUM)\n",
    "<br>\n",
    "□ Durchschnitt (AVG)\n",
    "<br>\n",
    "– Auch: STDDEV und VARIANCE\n",
    "<br>\n",
    "□ Minimum (MIN) und Maximum (MAX)\n",
    "<br>\n",
    "– Lexikographisch für nicht-numerische Werte\n",
    "<br>\n",
    "□ Anzahl (COUNT)\n",
    "<br>\n",
    "– Doppelte Werte gehen auch doppelt ein.\n",
    "<br>\n",
    "– Angewandt auf ein beliebiges Attribut ergibt dies die Anzahl der Tupel in der Relation.\n",
    "<br>\n",
    "– Zeilen mit NULL-Werten werden idR mitgezählt."
   ]
  },
  {
   "cell_type": "markdown",
   "metadata": {},
   "source": [
    "$R$\n",
    "\n",
    "|A|B|\n",
    "|-|-|\n",
    "|1|2|\n",
    "|3|4|\n",
    "|1|2|\n",
    "|1|2|"
   ]
  },
  {
   "cell_type": "markdown",
   "metadata": {},
   "source": [
    "SUM(B) = 10\n",
    "<br>\n",
    "AVG(A) = 1,5\n",
    "<br>\n",
    "MIN(A) = 1\n",
    "<br>\n",
    "MAX(B) = 4\n",
    "<br>\n",
    "COUNT(A) = 4\n",
    "<br>\n",
    "COUNT(B) = 4"
   ]
  },
  {
   "cell_type": "markdown",
   "metadata": {},
   "source": [
    "### Aggregation – Beispiele"
   ]
  },
  {
   "cell_type": "markdown",
   "metadata": {},
   "source": [
    "Film\n",
    "\n",
    "|Titel|Jahr|Länge|Typ|StudioName|\n",
    "|-----|----|-----|---|----------|\n",
    "|Total Recall|1990|113|Farbe|Fox|\n",
    "|Basic Instinct|1992|127|Farbe|Disney|\n",
    "|Dead Man|1995|90|s/w|Paramount|"
   ]
  },
  {
   "cell_type": "markdown",
   "metadata": {},
   "source": [
    "■ MAX(Jahr): Jüngster Film\n",
    "<br>\n",
    "■ MIN(Länge): Kürzester Film\n",
    "<br>\n",
    "■ SUM(Länge): Summe der Filmminuten\n",
    "<br>\n",
    "■ AVG(Länge): Durchschnittliche Filmlänge\n",
    "<br>\n",
    "■ MIN(Titel): Alphabetisch erster Film\n",
    "<br>\n",
    "■ COUNT(Titel): Anzahl Filme\n",
    "<br>\n",
    "■ COUNT(StudioName): Anzahl Filme\n",
    "<br>\n",
    "■ AVG(SchauspName): syntax error"
   ]
  },
  {
   "cell_type": "markdown",
   "metadata": {},
   "source": [
    "### Gruppierung"
   ]
  },
  {
   "cell_type": "markdown",
   "metadata": {},
   "source": [
    "■ Partitionierung der Tupel einer Relation gemäß ihrer Werte in einem oder mehr Attributen.\n",
    "<br>\n",
    "□ Hauptzweck: Aggregation auf Teilen einer Relation (Gruppen)\n",
    "<br>\n",
    "□ Gegeben\n",
    "<br>\n",
    "– Film(Titel, Jahr, Länge, inFarbe, StudioName, ProduzentID)\n",
    "<br>\n",
    "□ Gesucht: Gesamtminuten pro Studio\n",
    "<br>\n",
    "– Gesamtminuten(StudioName, SummeMinuten)\n",
    "<br>\n",
    "□ Verfahren:\n",
    "<br>\n",
    "– Gruppiere nach StudioName\n",
    "<br>\n",
    "– Summiere in jeder Gruppe die Länge der Filme\n",
    "<br>\n",
    "– Gebe Paare (Studioname, Summe) aus."
   ]
  },
  {
   "cell_type": "markdown",
   "metadata": {},
   "source": [
    "### Gruppierung (group, $\\gamma$)"
   ]
  },
  {
   "cell_type": "markdown",
   "metadata": {},
   "source": [
    "■ $\\gamma_L$(R) wobei L eine Menge von Attributen ist. Ein Element in L ist entweder\n",
    "<br>\n",
    "1. Ein Gruppierungsattribut nach dem gruppiert wird\n",
    "<br>\n",
    "2. Oder ein Aggregationsoperator auf ein Attribut von R (inkl. Neuen Namen für das aggregierte Attribut)\n",
    "<br>\n",
    "■ Ergebnis wird wie folgt konstruiert:\n",
    "<br>\n",
    "□ Partitioniere R in Gruppen, wobei jede Gruppe gleiche Werte im Gruppierungsattribut hat\n",
    "<br>\n",
    "– Falls kein Gruppierungsattribut angegeben: Ganz R ist die Gruppe\n",
    "<br>\n",
    "□ Für jede Gruppe erzeuge ein Tupel mit\n",
    "<br>\n",
    "– Wert der Gruppierungsattribute\n",
    "<br>\n",
    "– Aggregierte Werte über alle Tupel der Gruppe"
   ]
  },
  {
   "cell_type": "markdown",
   "metadata": {},
   "source": [
    "### Gruppierung – Beispiele"
   ]
  },
  {
   "cell_type": "markdown",
   "metadata": {},
   "source": [
    "Film\n",
    "\n",
    "|Titel|Jahr|Länge|Typ|StudioName|\n",
    "|-----|----|-----|---|----------|\n",
    "|Total Recall|1990|113|Farbe|Fox|\n",
    "|Basic Instinct|1992|127|Farbe|Disney|\n",
    "|Dead Man|1995|90|s/w|Paramount|"
   ]
  },
  {
   "cell_type": "markdown",
   "metadata": {},
   "source": [
    "■ Durchschnittliche Filmlänge pro Studio\n",
    "<br>\n",
    "□ $\\gamma_{Studio, AVG(Länge)→Durchschnittslänge}$(Film)\n",
    "<br><br>\n",
    "■ Anzahl der Filme pro Schauspieler\n",
    "<br>\n",
    "□ $\\gamma_{SchauspName, Count(Titel)→Filmanzahl}$(Film)\n",
    "<br><br>\n",
    "■ Durchschnittliche Anzahl der Filme pro Schauspieler\n",
    "<br>\n",
    "□ $\\gamma_{AVG(Filmanzahl)}(\\gamma_{SchauspName, Count(Titel)→Filmanzahl}$(Film))\n",
    "<br><br>\n",
    "■ Zu Hause:\n",
    "<br>\n",
    "□ Anzahl Schauspieler pro Film\n",
    "<br>\n",
    "□ Durchschnittliche Anzahl der Schauspieler pro Film\n",
    "<br>\n",
    "□ Studiogründung: Kleinstes Jahr pro Studio\n",
    "<br>\n",
    "<br>\n",
    "<br>\n",
    "■ Gegeben: SpieltIn(Titel, Jahr, SchauspName)\n",
    "<br>\n",
    "■ Gesucht: Für jeden Schauspieler, der in mindestens 3 Filmen spielte, das Jahr des ersten Filmes.\n",
    "<br>\n",
    "■ Idee\n",
    "<br>\n",
    "□ Gruppierung nach SchauspName\n",
    "<br>\n",
    "□ Bilde\n",
    "<br>\n",
    "– Minimum vom Jahr\n",
    "<br>\n",
    "– Count von Titeln\n",
    "<br>\n",
    "□ Selektion nach Anzahl der Filme\n",
    "<br>\n",
    "□ Projektion auf Schauspielername und Jahr\n",
    "<br>\n",
    "■ $\\pi_{SchauspName, MinJahr}(\\sigma_{AnzahlTitel≥3}(\\gamma_{SchauspName, MIN(Jahr)→MinJahr, COUNT(Titel)→AnzahlTitel}(SpieltIn)))$\n",
    "<br>\n",
    "<br>\n",
    "<br>\n",
    "■ Gegeben: SpieltIn(Titel, Jahr, SchauspName)\n",
    "■ Gesucht: Für jeden Schauspieler, der in mindestens 3 Filmen spielte, das Jahr des ersten Filmes und den Titel\n",
    "dieses Films.\n",
    "□ Genauer: Ein Titel des Schauspielers in dem Jahr\n",
    "■ Idee\n",
    "□ Wie zuvor\n",
    "□ Anschließend Self-Join um Filmtitel zu bekommen.\n",
    "□ Anschließend Gruppierung nach SchauspName um Gruppe auf einen Film zu reduzieren.\n",
    "■ $\\gamma_{SchauspName, MIN(MinJahr)→MinJahr, MIN(Titel)→Titel}( (SpieltIn) ⋈_{SchauspName = SchauspName, MinJahr = Jahr}\n",
    "(\\pi_{SchauspName, MinJahr}(\\sigma_{AnzahlTitel≥3}(\n",
    "\\gamma_{SchauspName, MIN(Jahr)→MinJahr, COUNT(Titel)→AnzahlTitel}(SpieltIn)\n",
    ") ) )\n",
    ")$"
   ]
  },
  {
   "cell_type": "markdown",
   "metadata": {},
   "source": [
    "### Komplexe Ausdrücke – Beispiele\n",
    "<br>\n",
    "<br>\n",
    "■ Stud(Matrikel, Name, Semester)\n",
    "<br>\n",
    "■ Prof(ProfName, Fachgebiet, GebJahr)\n",
    "<br>\n",
    "■ VL(VL_ID, Titel, Saal)\n",
    "<br>\n",
    "■ Lehrt(ProfName, VL_ID)\n",
    "<br>\n",
    "■ Hört(Matrikel,VL_ID)\n",
    "<br>\n",
    "■ Gesucht: Fachgebiete von Professoren, die VL geben, die weniger als drei Hörer haben.\n",
    "<br>\n",
    "■ $\\gamma_{Fachgebiet}$( (Prof ⋈ Lehrt) ⋈\n",
    "($\\sigma_{ COUNT < 3(gVL_ID,COUNT(Matrikel)-> COUNT}$(Hört))\n",
    ")\n",
    "<br>\n",
    "■ $\\pi_{Fachgebiet}$( (Prof ⋈ Lehrt) ⋈\n",
    "($\\sigma_{ COUNT < 3(gVL_ID,COUNT(Matrikel)-> COUNT}$(Hört))\n",
    ")"
   ]
  },
  {
   "cell_type": "markdown",
   "metadata": {},
   "source": [
    "### Sortierung (sort, $\\tau$)\n",
    "<br>\n",
    "<br>\n",
    "■ $\\tau_L$(R) wobei L eine Attributliste aus R ist.\n",
    "<br>\n",
    "□ Falls L = (A1,A2,…,An) wird zuerst nach A1, bei gleichen A1 nach A2 usw. sortiert.\n",
    "<br><br>\n",
    "■ Wichtig: Ergebnis der Sortierung ist keine Menge, sondern eine Liste.\n",
    "<br>\n",
    "□ Deshalb: Sortierung ist letzter Operator eines Ausdrucks. Ansonsten würden wieder Mengen entstehen und\n",
    "die Sortierung wäre verloren.\n",
    "<br>\n",
    "□ Trotzdem: In DBMS macht es manchmal auch Sinn zwischendurch zu sortieren."
   ]
  },
  {
   "cell_type": "markdown",
   "metadata": {},
   "source": [
    "### Semi-Join (⋊)\n",
    "<br>\n",
    "<br>\n",
    "■ Formal\n",
    "<br>\n",
    "□ R(A), S(B)\n",
    "<br>\n",
    "□ R ⋉ S : = $\\pi_A$(R⋈S)\n",
    "<br>\n",
    "= $\\pi_A$(R) ⋈$\\pi_{A\\cap B}$(S)\n",
    "<br>\n",
    "= R⋈$\\pi_{A\\cap B}$(S)\n",
    "<br>\n",
    "□ In Worten: Join über R und S, aber nur die Attribute von R sind interessant.\n",
    "<br>\n",
    "□ Definition analog für Theta-Join\n",
    "<br>\n",
    "■ Nicht kommutativ: R ⋉ S ≠ S ⋉ R"
   ]
  },
  {
   "cell_type": "markdown",
   "metadata": {},
   "source": [
    "### Semi-Join\n"
   ]
  },
  {
   "cell_type": "markdown",
   "metadata": {},
   "source": [
    "![title](semijoin1.jpg)"
   ]
  },
  {
   "cell_type": "markdown",
   "metadata": {},
   "source": [
    "![title](semijoin2.jpg)"
   ]
  },
  {
   "cell_type": "markdown",
   "metadata": {},
   "source": [
    "![title](semijoin3.jpg)"
   ]
  },
  {
   "cell_type": "markdown",
   "metadata": {},
   "source": [
    "### Outer Joins (Äußere Verbünde, |⋈|)\n",
    "<br>\n",
    "<br>\n",
    "Übernahme von „dangling tuples“ in das Ergebnis und Auffüllen mit Nullwerten (padding)\n",
    "<br>\n",
    "Nullwert: $\\perp$ bzw. null (≠ 0)\n",
    "<br><br>\n",
    "Full outer join\n",
    "<br>\n",
    "Übernimmt alle Tupel beider Operanden\n",
    "R |⋈| S\n",
    "<br><br>\n",
    "Left outer join (right outer join)\n",
    "<br>\n",
    "Übernimmt alle Tupel des linken (rechten) Operanden\n",
    "<br>\n",
    "R |⋈ S (bzw. R ⋈| S)\n",
    "<br><br>\n",
    "Herkömmlicher Join auch „Inner join“\n",
    "<br>\n",
    "<br>\n",
    "<br>\n",
    "R⋈S\n",
    "<br>\n",
    "R |⋈ S\n",
    "<br>\n",
    "R ⋈| S\n",
    "<br>\n",
    "R |⋈| S"
   ]
  },
  {
   "cell_type": "markdown",
   "metadata": {},
   "source": [
    "![title](outerjoin1.jpg)"
   ]
  },
  {
   "cell_type": "markdown",
   "metadata": {},
   "source": [
    "![title](outerjoin2.jpg)"
   ]
  },
  {
   "cell_type": "markdown",
   "metadata": {},
   "source": [
    "### Outer Union (⊎)\n",
    "<br>\n",
    "<br>\n",
    "■ Wie Vereinigung, aber auch mit inkompatiblen Schemata\n",
    "<br>\n",
    "□ Schema ist Vereinigung der Attributmengen\n",
    "<br>\n",
    "□ Fehlende Werte werden mit Nullwerten ergänzt"
   ]
  },
  {
   "cell_type": "markdown",
   "metadata": {},
   "source": [
    "$R$\n",
    "\n",
    "|A|B|C|\n",
    "|-|-|-|\n",
    "|1|2|3|\n",
    "|6|7|8|\n",
    "|9|7|8|"
   ]
  },
  {
   "cell_type": "markdown",
   "metadata": {},
   "source": [
    "$S$\n",
    "\n",
    "|B|C|D|\n",
    "|-|-|-|\n",
    "|2|5|6|\n",
    "|2|3|5|\n",
    "|7|8|10|"
   ]
  },
  {
   "cell_type": "markdown",
   "metadata": {},
   "source": [
    "$R⊎S$\n",
    "\n",
    "|A|B|C|D|\n",
    "|-|-|-|-|\n",
    "|1|2|3|$\\perp$|\n",
    "|6|7|8|$\\perp$|\n",
    "|9|7|8|$\\perp$|\n",
    "|$\\perp$|2|5|6|\n",
    "|$\\perp$|2|3|5|\n",
    "|$\\perp$|7|8|10|"
   ]
  },
  {
   "cell_type": "markdown",
   "metadata": {},
   "source": [
    "### Division (division, /)\n",
    "<br>\n",
    "<br>\n",
    "■ Typischerweise nicht als primitiver Operator unterstützt.\n",
    "<br>\n",
    "■ Finde alle Segler, die alle Segelboote reserviert haben.\n",
    "<br>\n",
    "■ Relation R(x,y), Relation S(y)\n",
    "<br>\n",
    "□ R/S = { t $\\in$ R(x) | $\\forall$ y $\\in$ S $\\exists$ <x, y> $\\in$ R}\n",
    "<br>\n",
    "□ R/S enthält alle x-Tupel (Segler), so dass es für jedes y-Tupel (Boot) in S ein xy-Tupel in R gibt.\n",
    "<br>\n",
    "□ Andersherum: Falls die Menge der y-Werte (Boote), die mit einem x-Wert (Segler) assoziiert sind, alle y-Werte\n",
    "in S enthält, so ist der x-Wert in R/S.\n",
    "<br>\n",
    "■ Hole die Namen von Angestellten, die an allen Projekten arbeiten.\n",
    "<br>\n",
    "□ Sinnvoller: Hole die Namen von Angestellten, die an allen Projekten arbeiten, in denen auch „Thomas Müller“\n",
    "arbeitet."
   ]
  },
  {
   "cell_type": "markdown",
   "metadata": {},
   "source": [
    "### Division – Beispiel"
   ]
  },
  {
   "cell_type": "markdown",
   "metadata": {},
   "source": [
    "![title](division1.jpg)"
   ]
  },
  {
   "cell_type": "markdown",
   "metadata": {},
   "source": [
    "### Division ausdrücken\n",
    "<br>\n",
    "<br>\n",
    "■ Division ist kein essentieller Operator, nur nützliche Abkürzung.\n",
    "<br>\n",
    "□ Ebenso wie Joins, aber Joins sind so üblich, dass Systeme sie speziell unterstützen.\n",
    "<br><br>\n",
    "■ Idee: Um R/S zu berechnen, berechne alle x-Werte, die nicht durch einen y-Wert in S „disqualifiziert“ werden.\n",
    "<br>\n",
    "– x-Wert ist disqualifiziert, falls man durch Anfügen eines y-Wertes ein xy-Tupel erhält, das nicht in R ist.\n",
    "<br>\n",
    "□ Disqualifizierte x-Werte: $\\pi_{x}$ (($\\pi_{x}$(R) $\\times$ S) − R)\n",
    "<br>\n",
    "□ R/S: $\\pi_{x}$(R) − alle disqualifizierten Tupel"
   ]
  },
  {
   "cell_type": "markdown",
   "metadata": {},
   "source": [
    "### Division"
   ]
  },
  {
   "cell_type": "markdown",
   "metadata": {},
   "source": [
    "![title](division2.jpg)"
   ]
  }
 ],
 "metadata": {
  "kernelspec": {
   "display_name": "Python 3 (ipykernel)",
   "language": "python",
   "name": "python3"
  },
  "language_info": {
   "codemirror_mode": {
    "name": "ipython",
    "version": 3
   },
   "file_extension": ".py",
   "mimetype": "text/x-python",
   "name": "python",
   "nbconvert_exporter": "python",
   "pygments_lexer": "ipython3",
   "version": "3.10.7"
  }
 },
 "nbformat": 4,
 "nbformat_minor": 2
}